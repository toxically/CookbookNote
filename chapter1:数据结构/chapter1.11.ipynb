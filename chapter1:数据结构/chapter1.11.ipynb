{
 "cells": [
  {
   "cell_type": "heading",
   "metadata": {
    "collapsed": true
   },
   "level": 1,
   "source": [
    "chapter1.11:对切片命名"
   ]
  },
  {
   "cell_type": "markdown",
   "metadata": {},
   "source": [
    "需求:\n",
    "将平时代码中诸如：`item[1:22]`,`[1,2,3][1:2]`等使用索引的切片等代码，转成可读性更高的代码"
   ]
  },
  {
   "cell_type": "code",
   "execution_count": 7,
   "metadata": {},
   "outputs": [
    {
     "name": "stdout",
     "output_type": "stream",
     "text": [
      "5180.0\n5180.0\n"
     ]
    }
   ],
   "source": [
    "# 索引切片\n",
    "record = '........100........51.8'\n",
    "cost = int(record[8:11]) * float(record[19:23])\n",
    "print(cost)\n",
    "\n",
    "# 新编码\n",
    "num = slice(8, 11)\n",
    "price = slice(19, 23)\n",
    "cost = int(record[num]) * float(record[price])\n",
    "print(cost)"
   ]
  },
  {
   "cell_type": "code",
   "execution_count": 12,
   "metadata": {},
   "outputs": [
    {
     "name": "stdout",
     "output_type": "stream",
     "text": [
      "1\n22\n2\n"
     ]
    }
   ],
   "source": [
    "# slice实例s可以通过s.start、s.stop、s.step等属性查看对象相关信息\n",
    "s = slice(1, 22, 2)\n",
    "print(s.start)\n",
    "print(s.stop)\n",
    "print(s.step)"
   ]
  },
  {
   "cell_type": "code",
   "execution_count": 14,
   "metadata": {},
   "outputs": [
    {
     "name": "stdout",
     "output_type": "stream",
     "text": [
      "e\nl\nW\nr\nd\n"
     ]
    }
   ],
   "source": [
    "# 此外还可以通过indices(size)方法将切片映射到特定大小的序列上。\n",
    "# 这时会返回一个元组(start,stop,step),所有值都在限制边界以内(可避免出现IndexError异常)\n",
    "\n",
    "string = 'HelloWorld'\n",
    "s.indices(len(string))\n",
    "for i in range(*s.indices(len(string))):\n",
    "    print(string[i])\n"
   ]
  },
  {
   "cell_type": "code",
   "execution_count": null,
   "metadata": {},
   "outputs": [],
   "source": []
  }
 ],
 "metadata": {
  "kernelspec": {
   "display_name": "Python 2",
   "language": "python",
   "name": "python2"
  },
  "language_info": {
   "codemirror_mode": {
    "name": "ipython",
    "version": 2
   },
   "file_extension": ".py",
   "mimetype": "text/x-python",
   "name": "python",
   "nbconvert_exporter": "python",
   "pygments_lexer": "ipython2",
   "version": "2.7.6"
  }
 },
 "nbformat": 4,
 "nbformat_minor": 0
}
