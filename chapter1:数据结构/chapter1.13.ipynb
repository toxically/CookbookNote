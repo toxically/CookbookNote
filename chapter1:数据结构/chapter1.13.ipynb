{
 "cells": [
  {
   "cell_type": "heading",
   "metadata": {
    "collapsed": true
   },
   "level": 1,
   "source": [
    "chapter1.13:通过公共键对字典列表排序"
   ]
  },
  {
   "cell_type": "markdown",
   "metadata": {},
   "source": [
    "需求：有一个字典列表,想根据一个或多个字典中的值对列表排序"
   ]
  },
  {
   "cell_type": "code",
   "execution_count": 4,
   "metadata": {},
   "outputs": [
    {
     "name": "stdout",
     "output_type": "stream",
     "text": [
      "[{'fname': 'Big', 'lname': 'Jones', 'uid': 1004}, {'fname': 'Brian', 'lname': 'Jones', 'uid': 1003}, {'fname': 'David', 'lname': 'Beazley', 'uid': 1002}, {'fname': 'John', 'lname': 'Cleese', 'uid': 1001}]\n[{'fname': 'John', 'lname': 'Cleese', 'uid': 1001}, {'fname': 'David', 'lname': 'Beazley', 'uid': 1002}, {'fname': 'Brian', 'lname': 'Jones', 'uid': 1003}, {'fname': 'Big', 'lname': 'Jones', 'uid': 1004}]\n[{'fname': 'David', 'lname': 'Beazley', 'uid': 1002}, {'fname': 'John', 'lname': 'Cleese', 'uid': 1001}, {'fname': 'Big', 'lname': 'Jones', 'uid': 1004}, {'fname': 'Brian', 'lname': 'Jones', 'uid': 1003}]\n"
     ]
    }
   ],
   "source": [
    "# itemgetter作用是获取对象的哪些维度的数据。itemgetter函数获取的不是值，而且定义了一个函数。\n",
    "# 通过这个函数作用到对象身上才能获取到值。\n",
    "from operator import itemgetter\n",
    "\n",
    "rows = [\n",
    "    {'fname': 'Brian', 'lname': 'Jones', 'uid': 1003},\n",
    "    {'fname': 'David', 'lname': 'Beazley', 'uid': 1002},\n",
    "    {'fname': 'John', 'lname': 'Cleese', 'uid': 1001},\n",
    "    {'fname': 'Big', 'lname': 'Jones', 'uid': 1004}\n",
    "]\n",
    "\n",
    "rows_by_fname = sorted(rows, key=itemgetter('fname'))\n",
    "row_by_uid = sorted(rows, key=itemgetter('uid'))\n",
    "print(rows_by_fname)\n",
    "print(row_by_uid)\n",
    "\n",
    "# 接受多个值\n",
    "row_by_lfname = sorted(rows, key=itemgetter('lname', 'fname'))\n",
    "print(row_by_lfname)"
   ]
  },
  {
   "cell_type": "code",
   "execution_count": 5,
   "metadata": {},
   "outputs": [],
   "source": [
    "# 函数operator.itemgetter()接受参数可以作为查询的标记,用来从rows的记录中提取所需的值。\n",
    "# 该参数可以是字典的键名称、用数字表示的列表元素或者任何可以传给对象的__getitem__()方法的值。\n",
    "# 如果传多个值，那么它产生de可调用对象将返回一个包含所有元素在内的元组，然后sorted()将根据对\n",
    "# 元组的排序结果来排列输出结果。如果想同时针对多个字段做排序，是非常有用的。\n",
    "\n",
    "# 有时候还可以使用lambda来替代itemgetter：\n",
    "row_by_fname = sorted(rows, key=lambda r: r['fname'])\n",
    "row_by_lfname = sorted(rows, key=lambda r: (r['lname'], r['fname']))\n",
    "\n",
    "# 考虑性能和的话还是使用itemgetter吧\n"
   ]
  },
  {
   "cell_type": "code",
   "execution_count": 8,
   "metadata": {},
   "outputs": [
    {
     "name": "stdout",
     "output_type": "stream",
     "text": [
      "B\n('B', 'D', 'F')\n"
     ]
    }
   ],
   "source": [
    "# 补充一下itemgetter()用法\n",
    "data = ['A', 'B', 'C', 'D', 'E', 'F', 'G']\n",
    "\n",
    "# 一个元素\n",
    "a = itemgetter(1)\n",
    "result = a(data)\n",
    "print(result)\n",
    "\n",
    "# 多个元素\n",
    "b = itemgetter(1, 3, 5)\n",
    "result = b(data)\n",
    "print(result)\n"
   ]
  },
  {
   "cell_type": "code",
   "execution_count": null,
   "metadata": {},
   "outputs": [],
   "source": []
  }
 ],
 "metadata": {
  "kernelspec": {
   "display_name": "Python 2",
   "language": "python",
   "name": "python2"
  },
  "language_info": {
   "codemirror_mode": {
    "name": "ipython",
    "version": 2
   },
   "file_extension": ".py",
   "mimetype": "text/x-python",
   "name": "python",
   "nbconvert_exporter": "python",
   "pygments_lexer": "ipython2",
   "version": "2.7.6"
  }
 },
 "nbformat": 4,
 "nbformat_minor": 0
}
