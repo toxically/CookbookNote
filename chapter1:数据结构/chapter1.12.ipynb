{
 "cells": [
  {
   "cell_type": "heading",
   "metadata": {
    "collapsed": true
   },
   "level": 1,
   "source": [
    "chapter1.12:找出序列中出现最多的元素"
   ]
  },
  {
   "cell_type": "code",
   "execution_count": 5,
   "metadata": {},
   "outputs": [
    {
     "name": "stdout",
     "output_type": "stream",
     "text": [
      "Counter({'eyes': 8, 'the': 5, 'look': 4, 'into': 3, 'my': 3, 'around': 2, 'not': 1, 'don': 1, 'you': 1, 'under': 1})\n[('eyes', 8), ('the', 5), ('look', 4)]\n"
     ]
    }
   ],
   "source": [
    "from collections import Counter\n",
    "\n",
    "words = ['look', 'into', 'my', 'eyes', 'look', 'into', 'my', 'eyes', 'the', 'eyes', 'the', 'eyes',\n",
    "         'the', 'eyes', 'not', 'around', 'the', 'eyes', 'don', 'look', 'around', 'the', 'eyes', 'look', 'into', 'my',\n",
    "         'eyes', 'you', 'under']\n",
    "# 分类统计\n",
    "word_counts = Counter(words)\n",
    "print(word_counts)\n",
    "\n",
    "# top3\n",
    "top_three = word_counts.most_common(3)\n",
    "print(top_three)\n"
   ]
  },
  {
   "cell_type": "code",
   "execution_count": 10,
   "metadata": {},
   "outputs": [
    {
     "name": "stdout",
     "output_type": "stream",
     "text": [
      "4\n10\n11\nCounter({'eyes': 11, 'my': 6, 'the': 5, 'look': 4, 'not': 4, 'you': 4, 'into': 3, 'why': 3, 'are': 3, 'looking': 3, 'in': 3, 'a': 3, 'around': 2, 'don': 1, 'under': 1})\nCounter({'eyes': 12, 'my': 7, 'the': 5, 'not': 5, 'you': 5, 'look': 4, 'why': 4, 'are': 4, 'looking': 4, 'in': 4, 'a': 4, 'into': 3, 'around': 2, 'don': 1, 'under': 1})\n"
     ]
    }
   ],
   "source": [
    "# Counter在底层实现中，是一个字典，在元素和他们出现次数之间做映射。\n",
    "print(word_counts['look'])\n",
    "print(word_counts['eyes'])\n",
    "\n",
    "# 增加次数\n",
    "more_words = ['why', 'are', 'you', 'not', 'looking', 'in', 'my', 'eyes', 'a']\n",
    "for word in more_words:\n",
    "    word_counts[word] += 1\n",
    "print(word_counts['eyes'])\n",
    "print(word_counts)\n",
    "\n",
    "# 通过update增加次数\n",
    "# 其中update参数为可迭代对象或者其他Counter对象\n",
    "word_counts.update(more_words)\n",
    "print(word_counts)"
   ]
  },
  {
   "cell_type": "code",
   "execution_count": 11,
   "metadata": {},
   "outputs": [
    {
     "name": "stdout",
     "output_type": "stream",
     "text": [
      "Counter({'eyes': 8, 'the': 5, 'look': 4, 'into': 3, 'my': 3, 'around': 2, 'not': 1, 'don': 1, 'you': 1, 'under': 1})\nCounter({'why': 1, 'are': 1, 'you': 1, 'not': 1, 'looking': 1, 'in': 1, 'my': 1, 'eyes': 1, 'a': 1})\n--------\nCounter({'eyes': 9, 'the': 5, 'look': 4, 'my': 4, 'into': 3, 'not': 2, 'around': 2, 'you': 2, 'don': 1, 'under': 1, 'why': 1, 'are': 1, 'looking': 1, 'in': 1, 'a': 1})\n-----\nCounter({'eyes': 7, 'the': 5, 'look': 4, 'into': 3, 'my': 2, 'around': 2, 'don': 1, 'under': 1})\n"
     ]
    }
   ],
   "source": [
    "# Counter还可以进行数学运算。\n",
    "a = Counter(words)\n",
    "b = Counter(more_words)\n",
    "print(a)\n",
    "print(b)\n",
    "print('--------')\n",
    "\n",
    "c = a + b\n",
    "print(c)\n",
    "print('-----')\n",
    "\n",
    "d = a - b\n",
    "print(d)\n"
   ]
  },
  {
   "cell_type": "code",
   "execution_count": null,
   "metadata": {},
   "outputs": [],
   "source": []
  }
 ],
 "metadata": {
  "kernelspec": {
   "display_name": "Python 2",
   "language": "python",
   "name": "python2"
  },
  "language_info": {
   "codemirror_mode": {
    "name": "ipython",
    "version": 2
   },
   "file_extension": ".py",
   "mimetype": "text/x-python",
   "name": "python",
   "nbconvert_exporter": "python",
   "pygments_lexer": "ipython2",
   "version": "2.7.6"
  }
 },
 "nbformat": 4,
 "nbformat_minor": 0
}
