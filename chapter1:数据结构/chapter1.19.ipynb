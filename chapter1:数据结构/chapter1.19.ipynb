{
 "cells": [
  {
   "cell_type": "heading",
   "metadata": {
    "collapsed": true
   },
   "level": 1,
   "source": [
    "chapter1.19：同时对数据做转换和换算"
   ]
  },
  {
   "cell_type": "markdown",
   "metadata": {},
   "source": [
    "需求：我们需要调用一个换算函数，但是首先得对数据做转换或筛选"
   ]
  },
  {
   "cell_type": "code",
   "execution_count": 2,
   "metadata": {},
   "outputs": [
    {
     "name": "stdout",
     "output_type": "stream",
     "text": [
      "91\n"
     ]
    }
   ],
   "source": [
    "# 求平方和\n",
    "nums = [1, 2, 3, 4, 5, 6]\n",
    "s = sum(x * x for x in nums)\n",
    "print(s)\n"
   ]
  },
  {
   "cell_type": "code",
   "execution_count": 4,
   "metadata": {},
   "outputs": [
    {
     "name": "stdout",
     "output_type": "stream",
     "text": [
      "Sorry!No,python\n"
     ]
    }
   ],
   "source": [
    "# 确认.py文件存在\n",
    "import os\n",
    "\n",
    "files = os.listdir('/User/toxic/')\n",
    "if any(name.endswith('.py') for name in files):\n",
    "    print('There be python')\n",
    "else:\n",
    "    print('Sorry!No,python')\n",
    "\n",
    "# any(x)作用为只要x或x中的元素bool()后不为false，就返回True，否则返回False\n",
    "# all(x)作用判断x或x中元素时候全部为非空，是则返回True，否则返回False"
   ]
  },
  {
   "cell_type": "code",
   "execution_count": 5,
   "metadata": {},
   "outputs": [
    {
     "name": "stdout",
     "output_type": "stream",
     "text": [
      "ACME,123.45,50\n"
     ]
    }
   ],
   "source": [
    "# output a tuple as csv\n",
    "s = {'ACME', 50, 123.45}\n",
    "print(','.join(str(x) for x in s))\n"
   ]
  },
  {
   "cell_type": "code",
   "execution_count": 10,
   "metadata": {},
   "outputs": [
    {
     "name": "stdout",
     "output_type": "stream",
     "text": [
      "20\n{'name': 'AOL', 'share': 20}\n"
     ]
    }
   ],
   "source": [
    "# 根据字段对数据进行换算\n",
    "portfolio = [\n",
    "    {'name': 'GOOG', 'share': 50},\n",
    "    {'name': 'YHOO', 'share': 75},\n",
    "    {'name': 'AOL', 'share': 20},\n",
    "    {'name': 'SCOX', 'share': 65}\n",
    "]\n",
    "min_shares = min(s['share'] for s in portfolio)\n",
    "print(min_shares)\n",
    "\n",
    "# 如果要返回{'name':'AOL','share':20}\n",
    "from operator import itemgetter\n",
    "\n",
    "min_shares = min(portfolio, key=itemgetter('share'))\n",
    "print(min_shares)\n"
   ]
  },
  {
   "cell_type": "code",
   "execution_count": null,
   "metadata": {},
   "outputs": [],
   "source": []
  }
 ],
 "metadata": {
  "kernelspec": {
   "display_name": "Python 2",
   "language": "python",
   "name": "python2"
  },
  "language_info": {
   "codemirror_mode": {
    "name": "ipython",
    "version": 2
   },
   "file_extension": ".py",
   "mimetype": "text/x-python",
   "name": "python",
   "nbconvert_exporter": "python",
   "pygments_lexer": "ipython2",
   "version": "2.7.6"
  }
 },
 "nbformat": 4,
 "nbformat_minor": 0
}
