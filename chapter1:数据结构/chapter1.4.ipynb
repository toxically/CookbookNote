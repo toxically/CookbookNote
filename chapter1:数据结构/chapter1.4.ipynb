{
 "cells": [
  {
   "cell_type": "heading",
   "metadata": {
    "collapsed": true
   },
   "level": 1,
   "source": [
    "找到最大或最小的N个元素"
   ]
  },
  {
   "cell_type": "code",
   "execution_count": 1,
   "metadata": {},
   "outputs": [
    {
     "name": "stdout",
     "output_type": "stream",
     "text": [
      "[42, 37, 23]\n[-4, 1, 2]\n"
     ]
    }
   ],
   "source": [
    "import heapq\n",
    "\n",
    "nums = [1, 8, 2, 23, 7, -4, 18, 23, 42, 37, 2]\n",
    "print(heapq.nlargest(3, nums))\n",
    "print(heapq.nsmallest(3, nums))\n"
   ]
  },
  {
   "cell_type": "code",
   "execution_count": 2,
   "metadata": {},
   "outputs": [
    {
     "name": "stdout",
     "output_type": "stream",
     "text": [
      "[{'name': 'YHOO', 'share': 45, 'price': 16.35}, {'name': 'FB', 'share': 200, 'price': 21.09}, {'name': 'HPQ', 'share': 35, 'price': 31.75}]\n[{'name': 'AAPL', 'share': 50, 'price': 543.22}, {'name': 'ACME', 'share': 75, 'price': 115.65}, {'name': 'IBM', 'share': 100, 'price': 91.1}]\n"
     ]
    }
   ],
   "source": [
    "# key参数，处理更复杂事情\n",
    "portfolio = [\n",
    "    {'name': 'IBM', 'share': 100, 'price': 91.1},\n",
    "    {'name': 'AAPL', 'share': 50, 'price': 543.22},\n",
    "    {'name': 'FB', 'share': 200, 'price': 21.09},\n",
    "    {'name': 'HPQ', 'share': 35, 'price': 31.75},\n",
    "    {'name': 'YHOO', 'share': 45, 'price': 16.35},\n",
    "    {'name': 'ACME', 'share': 75, 'price': 115.65}\n",
    "]\n",
    "cheap = heapq.nsmallest(3, portfolio, key=lambda s: s['price'])\n",
    "expensive = heapq.nlargest(3, portfolio, key=lambda s: s['price'])\n",
    "print(cheap)\n",
    "print(expensive)\n"
   ]
  },
  {
   "cell_type": "code",
   "execution_count": 3,
   "metadata": {},
   "outputs": [
    {
     "name": "stdout",
     "output_type": "stream",
     "text": [
      "[-4, 2, 1, 23, 7, 2, 18, 23, 42, 37, 8]\n"
     ]
    }
   ],
   "source": [
    "# 查找最大N元素或做小N元素时，同集合总元素相比，N很少，这可以通过以下函数，获取更好性能\n",
    "\n",
    "import heapq\n",
    "\n",
    "nums = [1, 8, 2, 23, 7, -4, 18, 23, 42, 37, 2]\n",
    "heap = list(nums)\n",
    "\n",
    "# 列表转换成堆\n",
    "heapq.heapify(heap)\n",
    "print(heap)\n"
   ]
  },
  {
   "cell_type": "code",
   "execution_count": 4,
   "metadata": {},
   "outputs": [
    {
     "data": {
      "text/plain": [
       "-4"
      ]
     },
     "execution_count": 4,
     "metadata": {},
     "output_type": "execute_result"
    }
   ],
   "source": [
    "# 堆最重要的特性是heap[0]总为最小的元素，可以通过heapq.heappop(),弹出最小元素。这个操作的复杂度是O(logN,N为堆的大小)\n",
    "heapq.heappop(heap)"
   ]
  },
  {
   "cell_type": "markdown",
   "metadata": {},
   "source": [
    "综述：在所找的元素相对较小时，函数nlargest()和nsmallest()才是最适合的。如果只是简单找到最小最大值，则min()和max()比较适合\n",
    "当N和集合本身大小差不多时，通常更快的方法是先对集合排序，再切片(sorted(item)[:N])"
   ]
  },
  {
   "cell_type": "code",
   "execution_count": null,
   "metadata": {},
   "outputs": [],
   "source": []
  }
 ],
 "metadata": {
  "kernelspec": {
   "display_name": "Python 2",
   "language": "python",
   "name": "python2"
  },
  "language_info": {
   "codemirror_mode": {
    "name": "ipython",
    "version": 2
   },
   "file_extension": ".py",
   "mimetype": "text/x-python",
   "name": "python",
   "nbconvert_exporter": "python",
   "pygments_lexer": "ipython2",
   "version": "2.7.6"
  }
 },
 "nbformat": 4,
 "nbformat_minor": 0
}
