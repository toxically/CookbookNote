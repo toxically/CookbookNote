{
 "cells": [
  {
   "cell_type": "heading",
   "metadata": {
    "collapsed": true
   },
   "level": 1,
   "source": [
    "chapter1.18：将名称映射到序列的元素中"
   ]
  },
  {
   "cell_type": "markdown",
   "metadata": {},
   "source": [
    "需求：通过名称访问序列元素，以减少结构对位置的依赖性"
   ]
  },
  {
   "cell_type": "code",
   "execution_count": 12,
   "metadata": {},
   "outputs": [
    {
     "name": "stdout",
     "output_type": "stream",
     "text": [
      "Subscriber(addr='abc@expample.com', joined='2018-1-22')\nabc@expample.com\n2018-1-22\n<class '__main__.Subscriber'>\n<class '__main__.Subscriber'>\n"
     ]
    }
   ],
   "source": [
    "# 相比普通的元组，collections.namedtuple()(命名元组)开销小，当便利。实际上namedtuple()是一个工厂方法，它返回\n",
    "# python中标准元组类型的子类。只要提供一个类型名称，及相应的字段即可。\n",
    "\n",
    "from collections import namedtuple\n",
    "\n",
    "# 实例化\n",
    "Subscriber = namedtuple('Subscriber', ['addr', 'joined'])\n",
    "sub = Subscriber('abc@expample.com', '2018-1-22')\n",
    "print(sub)\n",
    "print(sub.addr)\n",
    "print(sub.joined)\n",
    "\n",
    "# 实例化其他写法\n",
    "Subscriber = namedtuple('Subscriber', 'addr joined')\n",
    "print(Subscriber)\n",
    "Subscriber = namedtuple('Subscriber', 'addr,joined')\n",
    "print(Subscriber)\n"
   ]
  },
  {
   "cell_type": "code",
   "execution_count": 13,
   "metadata": {},
   "outputs": [
    {
     "name": "stdout",
     "output_type": "stream",
     "text": [
      "2\nabc@expample.com\n2018-1-22\n"
     ]
    }
   ],
   "source": [
    "# namedtuple生成的元组，支持普通元组的操作。\n",
    "\n",
    "print(len(sub))\n",
    "\n",
    "addr, joined = sub\n",
    "print(addr)\n",
    "print(joined)\n"
   ]
  },
  {
   "cell_type": "code",
   "execution_count": 14,
   "metadata": {},
   "outputs": [],
   "source": [
    "# 命名元组的主要作用在于将代码同它所控制的元素位置解耦。所以对于从数据库，或从csv中读取数据，可以通过命名元组\n",
    "# 来组织代码\n",
    "\n",
    "# 实例1：普通代码\n",
    "def compute_cost(records):\n",
    "    total = 0.0\n",
    "    for rec in records:\n",
    "        total += rec[1] * rec[2]\n",
    "    return total\n",
    "\n",
    "# 实例1：命名元组版(如果records中元素是某个类的实例，就不需要转换成命名元组，直接引用属性就可以了)\n",
    "from collections import namedtuple\n",
    "\n",
    "Stock = namedtuple('Stock', ['name', 'shares', 'price'])\n",
    "def compute_cost(records):\n",
    "    total = 0.0\n",
    "    for rec in records:\n",
    "        s = Stock(*rec)\n",
    "        total += s.shares * s.price\n",
    "    return total\n"
   ]
  },
  {
   "cell_type": "code",
   "execution_count": 15,
   "metadata": {},
   "outputs": [
    {
     "ename": "AttributeError",
     "evalue": "can't set attribute",
     "traceback": [
      "\u001b[0;31m---------------------------------------------------------------------------\u001b[0m",
      "\u001b[0;31mAttributeError\u001b[0m                            Traceback (most recent call last)",
      "\u001b[0;32m<ipython-input-15-a2191e0d157b>\u001b[0m in \u001b[0;36m<module>\u001b[0;34m()\u001b[0m\n\u001b[1;32m      3\u001b[0m \u001b[0;34m\u001b[0m\u001b[0m\n\u001b[1;32m      4\u001b[0m \u001b[0ms\u001b[0m \u001b[0;34m=\u001b[0m \u001b[0mStock\u001b[0m\u001b[0;34m(\u001b[0m\u001b[0;34m'ACME'\u001b[0m\u001b[0;34m,\u001b[0m \u001b[0mshares\u001b[0m\u001b[0;34m=\u001b[0m\u001b[0;36m100\u001b[0m\u001b[0;34m,\u001b[0m \u001b[0mprice\u001b[0m\u001b[0;34m=\u001b[0m\u001b[0;36m123.45\u001b[0m\u001b[0;34m)\u001b[0m\u001b[0;34m\u001b[0m\u001b[0m\n\u001b[0;32m----> 5\u001b[0;31m \u001b[0ms\u001b[0m\u001b[0;34m.\u001b[0m\u001b[0mshares\u001b[0m \u001b[0;34m=\u001b[0m \u001b[0;36m75\u001b[0m\u001b[0;34m\u001b[0m\u001b[0m\n\u001b[0m",
      "\u001b[0;31mAttributeError\u001b[0m: can't set attribute"
     ],
     "output_type": "error"
    }
   ],
   "source": [
    "# namedtuple是一种可能用法是作为字典的替代，后者需要更多空间存储。因此如果涉及构建大型的字典的数据结构，\n",
    "# 使用nametuple会更效率。但是注意的是，namedtuple是不可变的。\n",
    "\n",
    "s = Stock('ACME', shares=100, price=123.45)\n",
    "s.shares = 75 # wrong"
   ]
  },
  {
   "cell_type": "code",
   "execution_count": 16,
   "metadata": {},
   "outputs": [
    {
     "name": "stdout",
     "output_type": "stream",
     "text": [
      "Stock(name='ACME', shares=75, price=123.45)\n"
     ]
    }
   ],
   "source": [
    "# 如果需要修改任何属性，可以通过namedtuple实例的_replace()方法来实现。\n",
    "# 该方法会创建一个全新的命名元组，并对相应的值做替换。\n",
    "\n",
    "s = s._replace(shares=75)\n",
    "print(s)\n"
   ]
  },
  {
   "cell_type": "code",
   "execution_count": 19,
   "metadata": {},
   "outputs": [
    {
     "data": {
      "text/plain": [
       "Stock(name='ACME', shares=100, price=123.45, date=None, time=None)"
      ]
     },
     "execution_count": 19,
     "metadata": {},
     "output_type": "execute_result"
    }
   ],
   "source": [
    "# _replace()方法还有一个微妙的用法，那就是他可以作为一种简便的方法填充具有可选或缺失字段的命名元组。\n",
    "# 要做到这点，首先得创建一个包含默认值的\"原型\"元组，然后使用_replace()方法创建新的实例，替换旧值。\n",
    "\n",
    "from collections import namedtuple\n",
    "\n",
    "Stock = namedtuple('Stock', 'name,shares,price,date,time')\n",
    "\n",
    "# 创建原型\n",
    "stock_prototype = Stock('', 0, 0.0, None, None)\n",
    "\n",
    "# 将字典转换成Stock函数\n",
    "def dict_to_stock(s):\n",
    "    return stock_prototype._replace(**s)\n",
    "\n",
    "# 用法\n",
    "a = {'name': 'ACME', 'shares': 100, 'price': 123.45}\n",
    "dict_to_stock(a)\n"
   ]
  },
  {
   "cell_type": "code",
   "execution_count": 21,
   "metadata": {},
   "outputs": [
    {
     "name": "stdout",
     "output_type": "stream",
     "text": [
      "OrderedDict([('name', 'ACME'), ('shares', 75), ('price', 123.45)])\nStock(name='AA', shares='100', price=111.11)\n"
     ]
    }
   ],
   "source": [
    "\"\"\"\n",
    "    补充：namedtuple其他用法\n",
    "    \n",
    "    语法：\n",
    "    collections.namedtuple(typename, field_names, *, verbose=False, rename=False, module=None)\n",
    "        参数：\n",
    "        - typename：元组名\n",
    "        - field_names:字段名，可用['X','Y'] 或'X Y' 或'X,Y'表示，不能以下划线，数字开头，及使用python保留字\n",
    "        - verbose: 如果是True,会打印类的信息\n",
    "        - rename：如果是True,当字段名称无效时，会用位置名替代。如：\n",
    "            ['abc', 'def', 'ghi', 'abc'] is converted to ['abc', '_1', 'ghi', '_3']\n",
    "\"\"\"\n",
    "\n",
    "# 元组转OrderedDict()\n",
    "b = s._asdict()\n",
    "print(b)\n",
    "\n",
    "# 通过现有的序列或可迭代对象，生成实例\n",
    "t = ['AA', '100', 111.11]\n",
    "c = s._make(t)\n",
    "print(c)\n",
    "\n",
    "# 读取csv文件，将其转换成namedtuple元组\n",
    "EmployeeRecord = namedtuple('EmployeeRecord', 'name, age, title, department, paygrade')\n",
    "\n",
    "import csv\n",
    "\n",
    "for emp in map(EmployeeRecord._make, csv.reader(open(\"employees.csv\", \"rb\"))):\n",
    "    print(emp.name, emp.title)\n",
    "\n",
    "\n"
   ]
  },
  {
   "cell_type": "code",
   "execution_count": null,
   "metadata": {},
   "outputs": [],
   "source": []
  }
 ],
 "metadata": {
  "kernelspec": {
   "display_name": "Python 2",
   "language": "python",
   "name": "python2"
  },
  "language_info": {
   "codemirror_mode": {
    "name": "ipython",
    "version": 2
   },
   "file_extension": ".py",
   "mimetype": "text/x-python",
   "name": "python",
   "nbconvert_exporter": "python",
   "pygments_lexer": "ipython2",
   "version": "2.7.6"
  }
 },
 "nbformat": 4,
 "nbformat_minor": 0
}
