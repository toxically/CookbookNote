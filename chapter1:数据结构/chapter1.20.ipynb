{
 "cells": [
  {
   "cell_type": "heading",
   "metadata": {
    "collapsed": true
   },
   "level": 1,
   "source": [
    "chapter1.20:将多个映射合并为单个映射"
   ]
  },
  {
   "cell_type": "markdown",
   "metadata": {},
   "source": [
    "需求：我们有多个字典或映射，现在逻辑上将他们合并为一个单独的映射结构，以此执行某些特定操作，比如查找值，查找键是否存在"
   ]
  },
  {
   "cell_type": "code",
   "execution_count": 3,
   "metadata": {},
   "outputs": [
    {
     "name": "stdout",
     "output_type": "stream",
     "text": [
      "ChainMap({'x': 1, 'z': 3}, {'y': 2, 'z': 4})\n1\n2\n3\n"
     ]
    }
   ],
   "source": [
    "# 查找\n",
    "from collections import ChainMap\n",
    "\n",
    "a = {'x': 1, 'z': 3}\n",
    "b = {'y': 2, 'z': 4}\n",
    "\n",
    "c = ChainMap(a, b)\n",
    "print(c)\n",
    "print(c['x'])\n",
    "print(c['y'])\n",
    "print(c['z'])\n"
   ]
  },
  {
   "cell_type": "code",
   "execution_count": 4,
   "metadata": {},
   "outputs": [
    {
     "name": "stdout",
     "output_type": "stream",
     "text": [
      "ChainMap({'z': 10, 'w': 10}, {'y': 2, 'z': 4})\n{'z': 10, 'w': 10}\n{'y': 2, 'z': 4}\n"
     ]
    }
   ],
   "source": [
    "# 合并后如果有重复键，则会采用第一个映射。\n",
    "# 修改映射操作，总会作用在列出的第一个映射身上。\n",
    "c['z'] = 10\n",
    "c['w'] = 10\n",
    "del c['x']\n",
    "print(c)\n",
    "print(a)\n",
    "print(b)\n"
   ]
  },
  {
   "cell_type": "code",
   "execution_count": 11,
   "metadata": {},
   "outputs": [
    {
     "name": "stdout",
     "output_type": "stream",
     "text": [
      "ChainMap({'x': 3}, {'x': 2}, {'x': 1})\n3\n2\n1\n"
     ]
    }
   ],
   "source": [
    "# ChainMap与带有作用域的值，比如编程语言的变量(全局变量，局部变量)一起工作时特别有用\n",
    "values = ChainMap()\n",
    "values['x'] = 1\n",
    "\n",
    "# 添加新的映射\n",
    "values = values.new_child()\n",
    "values['x'] = 2\n",
    "\n",
    "values = values.new_child()\n",
    "values['x'] = 3\n",
    "\n",
    "print(values)\n",
    "print(values['x'])\n",
    "\n",
    "# 丢弃最后一次映射\n",
    "values = values.parents\n",
    "print(values['x'])\n",
    "\n",
    "values = values.parents\n",
    "print(values['x'])\n"
   ]
  },
  {
   "cell_type": "code",
   "execution_count": 13,
   "metadata": {},
   "outputs": [
    {
     "name": "stdout",
     "output_type": "stream",
     "text": [
      "{'y': 2, 'z': 3, 'x': 1}\n"
     ]
    }
   ],
   "source": [
    "# 作为ChainMap的替代方案。可以使用字典的update()方法合并字典\n",
    "# 但这种方法如果修改了原始数据（a,b键值),这种改变不会反应到合并后的字典\n",
    "\n",
    "a = {'x': 1, 'z': 3}\n",
    "b = {'y': 2, 'z': 4}\n",
    "\n",
    "merged = dict(b)\n",
    "merged.update(a)\n",
    "print(merged)\n"
   ]
  },
  {
   "cell_type": "code",
   "execution_count": null,
   "metadata": {},
   "outputs": [],
   "source": []
  }
 ],
 "metadata": {
  "kernelspec": {
   "display_name": "Python 2",
   "language": "python",
   "name": "python2"
  },
  "language_info": {
   "codemirror_mode": {
    "name": "ipython",
    "version": 2
   },
   "file_extension": ".py",
   "mimetype": "text/x-python",
   "name": "python",
   "nbconvert_exporter": "python",
   "pygments_lexer": "ipython2",
   "version": "2.7.6"
  }
 },
 "nbformat": 4,
 "nbformat_minor": 0
}
