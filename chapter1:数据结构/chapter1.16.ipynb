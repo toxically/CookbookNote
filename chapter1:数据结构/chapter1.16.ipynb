{
 "cells": [
  {
   "cell_type": "heading",
   "metadata": {
    "collapsed": true
   },
   "level": 1,
   "source": [
    "chapter1.16：筛选序列中的元素"
   ]
  },
  {
   "cell_type": "markdown",
   "metadata": {},
   "source": [
    "需求:序列中含有一些数据。我们需要提取其中的值或根据某些标准对序列做删减。\n",
    "\n",
    "解决:列表推导式"
   ]
  },
  {
   "cell_type": "code",
   "execution_count": 1,
   "metadata": {},
   "outputs": [
    {
     "name": "stdout",
     "output_type": "stream",
     "text": [
      "[1, 4, 10, 2, 3]\n"
     ]
    }
   ],
   "source": [
    "mylist = [1, 4, -5, 10, -7, 2, 3, -1]\n",
    "b = [n for n in mylist if n > 0]\n",
    "print(b)\n"
   ]
  },
  {
   "cell_type": "code",
   "execution_count": 2,
   "metadata": {},
   "outputs": [
    {
     "data": {
      "text/plain": [
       "<generator object <genexpr> at 0x10aa8ae08>"
      ]
     },
     "execution_count": 2,
     "metadata": {},
     "output_type": "execute_result"
    }
   ],
   "source": [
    "# 列表推导式的缺点就是，原始输入非常大会导致产生庞大的结果。这时可以采取生成器表达式产生结果\n",
    "pos = (n for n in mylist if n > 0)\n",
    "pos"
   ]
  },
  {
   "cell_type": "code",
   "execution_count": 4,
   "metadata": {},
   "outputs": [
    {
     "name": "stdout",
     "output_type": "stream",
     "text": [
      "['1', '2', '-3', '4', '5']\n<filter object at 0x10aad55c0>\n"
     ]
    }
   ],
   "source": [
    "# 对于一些复杂的筛选。没办法简单表示在列表推导式中的，可以使用filter()。filter()返回的是迭代器，\n",
    "# 可以使用list()转换成列表类型\n",
    "values = ['1', '2', '-3', '-', '4', 'N/A', '5']\n",
    "\n",
    "\n",
    "def is_int(val):\n",
    "    try:\n",
    "        x = int(val)\n",
    "        return True\n",
    "    except ValueError:\n",
    "        return False\n",
    "\n",
    "\n",
    "ivals = list(filter(is_int, values))\n",
    "print(ivals)\n",
    "print(filter(is_int, values))\n"
   ]
  },
  {
   "cell_type": "markdown",
   "metadata": {},
   "source": [
    "# filter()使用介绍：\n",
    "\n",
    "- filter()用于过滤序列，过滤不符合条件的元素，返回迭代器（3.0后返回的是迭代器)。\n",
    "- filter()参数，第一个接收一个函数，第二个接收可迭代对象。序列每个元素作为参数传递给函数进行判断，然后filter()会将判断函数返回为True的元素写入到迭代器里。\n",
    "\n",
    "- filter语法: `filter(funciton,iterable)`\n",
    "\n"
   ]
  },
  {
   "cell_type": "code",
   "execution_count": 6,
   "metadata": {},
   "outputs": [
    {
     "name": "stdout",
     "output_type": "stream",
     "text": [
      "[1, 4, 0, 10, 0, 2, 3, 0]\n[0, 0, -5, 0, -7, 0, 0, -1]\n"
     ]
    }
   ],
   "source": [
    "# 替换序列中不满足要求的值\n",
    "clip_neg = [n if n > 0 else 0 for n in mylist]\n",
    "print(clip_neg)\n",
    "clip_pos = [n if n < 0 else 0 for n in mylist]\n",
    "print(clip_pos)\n"
   ]
  },
  {
   "cell_type": "code",
   "execution_count": 11,
   "metadata": {},
   "outputs": [
    {
     "name": "stdout",
     "output_type": "stream",
     "text": [
      "[False, False, True, False, False, True, True, False, True, True]\n['5800 E 58TH', '1060 W ADDISON', '4801 N BROADWAY']\n"
     ]
    }
   ],
   "source": [
    "\"\"\"\n",
    "    itertools.compress(),可以接受一个迭代对象及一个布尔选择器序列作为输入。\n",
    "    输出时，它会输出所有在相应的布尔选择器中为True的可迭代对象元素。如果想把对一个序列筛选结果施加到另一\n",
    "    个相关序列上时，是非常有用的。\n",
    "    \n",
    "    这里的关键是首先创建一个布尔序列，用来表示哪个元素可以满足我们条件。然后compress()挑选出满足布尔值为True\n",
    "    的相应元素。\n",
    "\"\"\"\n",
    "from itertools import compress\n",
    "\n",
    "address = [\n",
    "    '5412 N CLARK',\n",
    "    '5148 N CLARK',\n",
    "    '5800 E 58TH',\n",
    "    '2122 N CLARK',\n",
    "    '5645 N RAVENSWOOD',\n",
    "    '1060 W ADDISON',\n",
    "    '4801 N BROADWAY',\n",
    "    '1039 W GRANVILLE'\n",
    "]\n",
    "counts = [0, 3, 10, 4, 1, 7, 6, 1]\n",
    "\n",
    "from itertools import compress\n",
    "\n",
    "# 筛选counts\n",
    "more5 = [n > 5 for n in counts]\n",
    "print(more5)\n",
    "\n",
    "# 即使address和more5的元素数量不对等，也能根据匹配到元素返回对应的结果。\n",
    "result = list(compress(address, more5))\n",
    "print(result)\n"
   ]
  },
  {
   "cell_type": "code",
   "execution_count": null,
   "metadata": {},
   "outputs": [],
   "source": []
  }
 ],
 "metadata": {
  "kernelspec": {
   "display_name": "Python 2",
   "language": "python",
   "name": "python2"
  },
  "language_info": {
   "codemirror_mode": {
    "name": "ipython",
    "version": 2
   },
   "file_extension": ".py",
   "mimetype": "text/x-python",
   "name": "python",
   "nbconvert_exporter": "python",
   "pygments_lexer": "ipython2",
   "version": "2.7.6"
  }
 },
 "nbformat": 4,
 "nbformat_minor": 0
}
