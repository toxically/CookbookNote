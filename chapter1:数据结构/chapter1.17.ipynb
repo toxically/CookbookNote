{
 "cells": [
  {
   "cell_type": "heading",
   "metadata": {
    "collapsed": true
   },
   "level": 1,
   "source": [
    "chapter1.17：从字典中提取子集"
   ]
  },
  {
   "cell_type": "markdown",
   "metadata": {},
   "source": [
    "需求：创建一个字典，其本身是另外一个字典的子集。  \n",
    "解决：字典推导式"
   ]
  },
  {
   "cell_type": "code",
   "execution_count": 2,
   "metadata": {},
   "outputs": [
    {
     "name": "stdout",
     "output_type": "stream",
     "text": [
      "{'AAPL': 612.78, 'IBM': 205.55}\n{'AAPL': 612.78, 'IBM': 205.55, 'HPQ': 37.2}\n"
     ]
    }
   ],
   "source": [
    "prices = {\n",
    "    'ACME': 45.23,\n",
    "    'AAPL': 612.78,\n",
    "    'IBM': 205.55,\n",
    "    'HPQ': 37.20,\n",
    "    'FB': 10.75\n",
    "}\n",
    "\n",
    "p1 = {key: value for key, value in prices.items() if value > 200}\n",
    "print(p1)\n",
    "\n",
    "tech_names = {'AAPL', 'IBM', 'HPQ', 'MSFT'}\n",
    "p2 = {key: value for key, value in prices.items() if key in tech_names}\n",
    "print(p2)\n"
   ]
  },
  {
   "cell_type": "code",
   "execution_count": 4,
   "metadata": {},
   "outputs": [
    {
     "name": "stdout",
     "output_type": "stream",
     "text": [
      "{'AAPL': 612.78, 'IBM': 205.55}\n"
     ]
    }
   ],
   "source": [
    "# p1另外写法,但是性能相比字典推导式差很多\n",
    "p1 = dict((key, value) for key, value in prices.items() if value > 200)\n",
    "print(p1)\n"
   ]
  },
  {
   "cell_type": "code",
   "execution_count": 5,
   "metadata": {},
   "outputs": [
    {
     "name": "stdout",
     "output_type": "stream",
     "text": [
      "{'IBM': 205.55, 'AAPL': 612.78, 'HPQ': 37.2}\n"
     ]
    }
   ],
   "source": [
    "# p2其他写法\n",
    "p2 = {key: prices[key] for key in prices.keys() & tech_names}\n",
    "print(p2)"
   ]
  },
  {
   "cell_type": "code",
   "execution_count": null,
   "metadata": {},
   "outputs": [],
   "source": []
  }
 ],
 "metadata": {
  "kernelspec": {
   "display_name": "Python 2",
   "language": "python",
   "name": "python2"
  },
  "language_info": {
   "codemirror_mode": {
    "name": "ipython",
    "version": 2
   },
   "file_extension": ".py",
   "mimetype": "text/x-python",
   "name": "python",
   "nbconvert_exporter": "python",
   "pygments_lexer": "ipython2",
   "version": "2.7.6"
  }
 },
 "nbformat": 4,
 "nbformat_minor": 0
}
