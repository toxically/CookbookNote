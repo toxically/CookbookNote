{
 "cells": [
  {
   "cell_type": "heading",
   "metadata": {
    "collapsed": true
   },
   "level": 1,
   "source": [
    "chapter1.5:实现优先级序列"
   ]
  },
  {
   "cell_type": "markdown",
   "metadata": {},
   "source": [
    "需求：实现以给定的优先级排序。并在pop的时候返回优先级最高的元素"
   ]
  },
  {
   "cell_type": "code",
   "execution_count": 7,
   "metadata": {},
   "outputs": [
    {
     "data": {
      "text/plain": [
       "Item('bar')"
      ]
     },
     "execution_count": 7,
     "metadata": {},
     "output_type": "execute_result"
    }
   ],
   "source": [
    "import heapq\n",
    "\n",
    "\n",
    "class PriorityQueue:\n",
    "    \"\"\"\n",
    "        代码分析：\n",
    "        由于堆的特性，使用heappop时，弹出的都是最小元素。所以要实现pop返回优先级最高的元素，需要将priority\n",
    "        取负值。index作用是为了让相同优先级的元素以适当的顺序排序。(-priority，index，item)这种队列，在比\n",
    "        较的时候，会优先比较-priority大小，再比较index大小，由于index值唯一，所以，一般只会比较到index部分，\n",
    "        不会进行到比较item部分。\n",
    "    \"\"\"\n",
    "\n",
    "    def __init__(self):\n",
    "        self._queue = []\n",
    "        self._index = 0\n",
    "\n",
    "    def push(self, item, priority):\n",
    "        heapq.heappush(self._queue, (-priority, self._index, item))\n",
    "        self._index += 1\n",
    "\n",
    "    def pop(self):\n",
    "        return heapq.heappop(self._queue)[-1]\n",
    "\n",
    "\n",
    "class Item:\n",
    "    def __init__(self, name):\n",
    "        self.name = name\n",
    "\n",
    "    def __repr__(self):\n",
    "        # 注!r为强制转换成repr，同理!s,!a为强制转换成str，ascii\n",
    "        return 'Item({!r})'.format(self.name)\n",
    "\n",
    "\n",
    "# 插入数据\n",
    "q = PriorityQueue()\n",
    "q.push(Item('foo'), 1)\n",
    "q.push(Item('bar'), 5)\n",
    "q.push(Item('spam'), 4)\n",
    "q.push(Item('grok'), 1)\n",
    "\n",
    "# 弹出数据\n",
    "q.pop()\n"
   ]
  },
  {
   "cell_type": "code",
   "execution_count": 8,
   "metadata": {},
   "outputs": [],
   "source": [
    ""
   ]
  },
  {
   "cell_type": "code",
   "execution_count": null,
   "metadata": {},
   "outputs": [],
   "source": []
  }
 ],
 "metadata": {
  "kernelspec": {
   "display_name": "Python 2",
   "language": "python",
   "name": "python2"
  },
  "language_info": {
   "codemirror_mode": {
    "name": "ipython",
    "version": 2
   },
   "file_extension": ".py",
   "mimetype": "text/x-python",
   "name": "python",
   "nbconvert_exporter": "python",
   "pygments_lexer": "ipython2",
   "version": "2.7.6"
  }
 },
 "nbformat": 4,
 "nbformat_minor": 0
}
