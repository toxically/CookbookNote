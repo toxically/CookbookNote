{
 "cells": [
  {
   "cell_type": "heading",
   "metadata": {
    "collapsed": true
   },
   "level": 1,
   "source": [
    "chapter1.6：在字典中将键映射到多个值上"
   ]
  },
  {
   "cell_type": "markdown",
   "metadata": {},
   "source": [
    "需求：要一个能将key映射d奥多个值的字典，即一键多值字典"
   ]
  },
  {
   "cell_type": "code",
   "execution_count": 1,
   "metadata": {},
   "outputs": [],
   "source": [
    "from collections import defaultdict\n",
    "\n",
    "# 定义字典多值为列表类型\n",
    "d = defaultdict(list)\n",
    "d['a'].append('a')\n",
    "\n",
    "# 定义多值为集合类型\n",
    "dd = defaultdict(set)\n",
    "dd['a'].add(1)\n",
    "\n",
    "# 定义多值为字典类型\n",
    "ddd = defaultdict(dict)\n"
   ]
  },
  {
   "cell_type": "code",
   "execution_count": 2,
   "metadata": {},
   "outputs": [
    {
     "name": "stdout",
     "output_type": "stream",
     "text": [
      "{'a': [1]}\n"
     ]
    }
   ],
   "source": [
    "# 同样可以创建普通字典，使用setdefault来实现上面功能\n",
    "\n",
    "dddd = {}\n",
    "dddd.setdefault('a', []).append(1)\n",
    "print(dddd)\n"
   ]
  },
  {
   "cell_type": "code",
   "execution_count": null,
   "metadata": {},
   "outputs": [],
   "source": []
  }
 ],
 "metadata": {
  "kernelspec": {
   "display_name": "Python 2",
   "language": "python",
   "name": "python2"
  },
  "language_info": {
   "codemirror_mode": {
    "name": "ipython",
    "version": 2
   },
   "file_extension": ".py",
   "mimetype": "text/x-python",
   "name": "python",
   "nbconvert_exporter": "python",
   "pygments_lexer": "ipython2",
   "version": "2.7.6"
  }
 },
 "nbformat": 4,
 "nbformat_minor": 0
}
