{
 "cells": [
  {
   "cell_type": "heading",
   "metadata": {
    "collapsed": true
   },
   "level": 1,
   "source": [
    "chapter1.15：根据字段将记录分组"
   ]
  },
  {
   "cell_type": "markdown",
   "metadata": {},
   "source": [
    "需求:有一系列的字典或对象实例，需要根据某个特定的字段来分组迭代数据"
   ]
  },
  {
   "cell_type": "code",
   "execution_count": 2,
   "metadata": {},
   "outputs": [
    {
     "name": "stdout",
     "output_type": "stream",
     "text": [
      "07/01/2012\n {'address': '5421 N CLARK', 'date': '07/01/2012'}\n {'address': '4801 N BROADWAY', 'date': '07/01/2012'}\n07/02/2012\n {'address': '5800 E 58TH', 'date': '07/02/2012'}\n {'address': '5645 N RAVENSWOOD', 'date': '07/02/2012'}\n {'address': '1060 W ADDISON', 'date': '07/02/2012'}\n07/03/2012\n {'address': '2122 N CLARK', 'date': '07/03/2012'}\n07/04/2012\n {'address': '5148 N CLARK', 'date': '07/04/2012'}\n {'address': '1039 W GRANVILLE', 'date': '07/04/2012'}\n"
     ]
    }
   ],
   "source": [
    "# 分组逻辑：1.先按分组字段排序 2.再分组\n",
    "from itertools import groupby\n",
    "from operator import itemgetter\n",
    "\n",
    "rows = [\n",
    "    {'address': '5421 N CLARK', 'date': '07/01/2012'},\n",
    "    {'address': '5148 N CLARK', 'date': '07/04/2012'},\n",
    "    {'address': '5800 E 58TH', 'date': '07/02/2012'},\n",
    "    {'address': '2122 N CLARK', 'date': '07/03/2012'},\n",
    "    {'address': '5645 N RAVENSWOOD', 'date': '07/02/2012'},\n",
    "    {'address': '1060 W ADDISON', 'date': '07/02/2012'},\n",
    "    {'address': '4801 N BROADWAY', 'date': '07/01/2012'},\n",
    "    {'address': '1039 W GRANVILLE', 'date': '07/04/2012'}\n",
    "]\n",
    "\n",
    "# 按日期排序\n",
    "rows.sort(key=itemgetter('date'))\n",
    "\n",
    "# 迭代分组\n",
    "for date, items in groupby(rows, key=itemgetter('date')):\n",
    "    print(date)\n",
    "    for i in items:\n",
    "        print('', i)\n"
   ]
  },
  {
   "cell_type": "markdown",
   "metadata": {},
   "source": [
    "`groupby()`返回的是迭代器。而每一次的迭代返回的是一个值(分组的值)和子迭代器(可产生该分组内具有该值得项)\n",
    "\n",
    "如上面的例子`groupby(rows, key=itemgetter('date'))`生成的迭代器。转换成列表类型，结果如下：  \n",
    "\n",
    "```\n",
    "[('07.04/2012', <itertools._grouper at 0x1076806d8>),\n",
    " ('07/01/2012', <itertools._grouper at 0x107680828>),\n",
    " ('07/02/2012', <itertools._grouper at 0x107680320>),\n",
    " ('07/03/2012', <itertools._grouper at 0x1076808d0>),\n",
    " ('07/04/2012', <itertools._grouper at 0x107680630>)]\n",
    "```"
   ]
  },
  {
   "cell_type": "code",
   "execution_count": 3,
   "metadata": {},
   "outputs": [
    {
     "name": "stdout",
     "output_type": "stream",
     "text": [
      "defaultdict(<class 'list'>, {'07/01/2012': [{'address': '5421 N CLARK', 'date': '07/01/2012'}, {'address': '4801 N BROADWAY', 'date': '07/01/2012'}], '07/02/2012': [{'address': '5800 E 58TH', 'date': '07/02/2012'}, {'address': '5645 N RAVENSWOOD', 'date': '07/02/2012'}, {'address': '1060 W ADDISON', 'date': '07/02/2012'}], '07/03/2012': [{'address': '2122 N CLARK', 'date': '07/03/2012'}], '07/04/2012': [{'address': '5148 N CLARK', 'date': '07/04/2012'}, {'address': '1039 W GRANVILLE', 'date': '07/04/2012'}]})\n"
     ]
    }
   ],
   "source": [
    "# 如果是简单的想实现根据日期将数据分组到一起。可以使用之前一键多值的方法处理\n",
    "\n",
    "from collections import defaultdict\n",
    "rows_by_date = defaultdict(list)\n",
    "for row in rows:\n",
    "    rows_by_date[row['date']].append(row)\n",
    "print(rows_by_date)\n"
   ]
  },
  {
   "cell_type": "markdown",
   "metadata": {},
   "source": [
    "综述：如果不考虑内存问题，使用defaultdict分组会比groupby()迭代快"
   ]
  },
  {
   "cell_type": "code",
   "execution_count": null,
   "metadata": {},
   "outputs": [],
   "source": []
  }
 ],
 "metadata": {
  "kernelspec": {
   "display_name": "Python 2",
   "language": "python",
   "name": "python2"
  },
  "language_info": {
   "codemirror_mode": {
    "name": "ipython",
    "version": 2
   },
   "file_extension": ".py",
   "mimetype": "text/x-python",
   "name": "python",
   "nbconvert_exporter": "python",
   "pygments_lexer": "ipython2",
   "version": "2.7.6"
  }
 },
 "nbformat": 4,
 "nbformat_minor": 0
}
