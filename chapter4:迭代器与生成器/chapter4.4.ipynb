{
 "cells": [
  {
   "cell_type": "heading",
   "metadata": {
    "collapsed": true
   },
   "level": 1,
   "source": [
    "chapter4.4：实现迭代器协议"
   ]
  },
  {
   "cell_type": "markdown",
   "metadata": {},
   "source": [
    "你想构建一个能支持迭代操作的自定义对象，并希望找到一个能实现迭代协议的简单方法。"
   ]
  },
  {
   "cell_type": "markdown",
   "metadata": {},
   "source": [
    "目前为止，在一个对象上实现迭代最简单的方式是使用一个生成器函数。 在4.2小节中，使用Node类来表示树形数据结构。你可能想实现一个以深度优先方式遍历树形节点的生成器。 下面是代码示例：\n",
    "\n"
   ]
  },
  {
   "cell_type": "code",
   "execution_count": 1,
   "metadata": {},
   "outputs": [],
   "source": [
    "class Node:\n",
    "    def __init__(self, value):\n",
    "        self._value = value\n",
    "        self._children = []\n",
    "\n",
    "    def __repr__(self):\n",
    "        return 'Node({!r})'.format(self._value)\n",
    "\n",
    "    def add_child(self, node):\n",
    "        self._children.append(node)\n",
    "\n",
    "    def __iter__(self):\n",
    "        return iter(self._children)\n",
    "\n",
    "    def depth_first(self):\n",
    "        yield self\n",
    "        for c in self:\n",
    "            yield from c.depth_first()\n"
   ]
  },
  {
   "cell_type": "code",
   "execution_count": 2,
   "metadata": {},
   "outputs": [
    {
     "name": "stdout",
     "output_type": "stream",
     "text": [
      "Node(0)\nNode(1)\nNode(3)\nNode(4)\nNode(2)\nNode(5)\n"
     ]
    }
   ],
   "source": [
    "# Example\n",
    "root = Node(0)\n",
    "child1 = Node(1)\n",
    "child2 = Node(2)\n",
    "root.add_child(child1)\n",
    "root.add_child(child2)\n",
    "child1.add_child(Node(3))\n",
    "child1.add_child(Node(4))\n",
    "child2.add_child(Node(5))\n",
    "\n",
    "for ch in root.depth_first():\n",
    "    print(ch)\n",
    "\n",
    "# 在这段代码中，depth_first() 方法简单直观。 \n",
    "# 它首先返回自己本身并迭代每一个子节点并 通过调用子节点的 depth_first() 方法(使用 yield from 语句)返回对应元素。"
   ]
  },
  {
   "cell_type": "markdown",
   "metadata": {},
   "source": [
    "Python的迭代协议要求一个 __iter__() 方法返回一个特殊的迭代器对象， 这个迭代器对象实现了 __next__() 方法并通过 StopIteration 异常标识迭代的完成。 但是，实现这些通常会比较繁琐。 下面我们演示下这种方式，如何使用一个关联迭代器类重新实现 depth_first() 方法："
   ]
  },
  {
   "cell_type": "code",
   "execution_count": 3,
   "metadata": {},
   "outputs": [],
   "source": [
    "class Node2:\n",
    "    def __init__(self, value):\n",
    "        self._value = value\n",
    "        self._children = []\n",
    "\n",
    "    def __repr__(self):\n",
    "        return 'Node({!r})'.format(self._value)\n",
    "\n",
    "    def add_child(self, node):\n",
    "        self._children.append(node)\n",
    "\n",
    "    def __iter__(self):\n",
    "        return iter(self._children)\n",
    "\n",
    "    def depth_first(self):\n",
    "        return DepthFirstIterator(self)\n",
    "\n",
    "\n",
    "class DepthFirstIterator(object):\n",
    "    \"\"\"\n",
    "        Depth-first traversal\n",
    "    \"\"\"\n",
    "\n",
    "    def __init__(self, start_node):\n",
    "        self._node = start_node\n",
    "        self._children_iter = None\n",
    "        self._child_iter = None\n",
    "\n",
    "    def __iter__(self):\n",
    "        return self\n",
    "\n",
    "    def __next__(self):\n",
    "        # 返回自身，且为children创建迭代器\n",
    "        if self._children_iter is None:\n",
    "            self._children_iter = iter(self._node)\n",
    "            return self._node\n",
    "        # 如果正在处理child，返回下一个item\n",
    "        elif self._child_iter:\n",
    "            try:\n",
    "                next_child = next(self._child_iter)\n",
    "                return next_child\n",
    "            except StopIteration:\n",
    "                self._child_iter = None\n",
    "                return next(self)\n",
    "        # 到达下一个child 且开始它的迭代\n",
    "        else:\n",
    "            self._child_iter = next(self._children_iter).depth_first()\n",
    "            return next(self)\n"
   ]
  },
  {
   "cell_type": "markdown",
   "metadata": {},
   "source": [
    "DepthFirstIterator 类和上面使用生成器的版本工作原理类似， 但是它写起来很繁琐，因为迭代器必须在迭代处理过程中维护大量的状态信息。 坦白来讲，没人愿意写这么晦涩的代码。将你的迭代器定义为一个生成器后一切迎刃而解。"
   ]
  },
  {
   "cell_type": "code",
   "execution_count": null,
   "metadata": {},
   "outputs": [],
   "source": []
  }
 ],
 "metadata": {
  "kernelspec": {
   "display_name": "Python 2",
   "language": "python",
   "name": "python2"
  },
  "language_info": {
   "codemirror_mode": {
    "name": "ipython",
    "version": 2
   },
   "file_extension": ".py",
   "mimetype": "text/x-python",
   "name": "python",
   "nbconvert_exporter": "python",
   "pygments_lexer": "ipython2",
   "version": "2.7.6"
  }
 },
 "nbformat": 4,
 "nbformat_minor": 0
}
