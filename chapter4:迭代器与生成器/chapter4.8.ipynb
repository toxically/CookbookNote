{
 "cells": [
  {
   "cell_type": "heading",
   "metadata": {
    "collapsed": true
   },
   "level": 1,
   "source": [
    "chapter4.8:跳过可迭代对象的开始部分"
   ]
  },
  {
   "cell_type": "markdown",
   "metadata": {},
   "source": [
    "你想遍历一个可迭代对象，但是它开始的某些元素你并不感兴趣，想跳过它们。"
   ]
  },
  {
   "cell_type": "code",
   "execution_count": 2,
   "metadata": {},
   "outputs": [],
   "source": [
    "# 为了演示，假定你在读取一个开始部分是几行注释的源文件。比如\n",
    "\n",
    "with open('/etc/passwd') as f:\n",
    "    for line in f:\n",
    "        print(line, end='')\n"
   ]
  },
  {
   "cell_type": "code",
   "execution_count": 1,
   "metadata": {},
   "outputs": [
    {
     "name": "stdout",
     "output_type": "stream",
     "text": [
      "nobody:*:-2:-2:Unprivileged User:/var/empty:/usr/bin/false\nroot:*:0:0:System Administrator:/var/root:/bin/sh\ndaemon:*:1:1:System Services:/var/root:/usr/bin/false\n_uucp:*:4:4:Unix to Unix Copy Protocol:/var/spool/uucp:/usr/sbin/uucico\n_taskgated:*:13:13:Task Gate Daemon:/var/empty:/usr/bin/false\n_networkd:*:24:24:Network Services:/var/networkd:/usr/bin/false\n_installassistant:*:25:25:Install Assistant:/var/empty:/usr/bin/false\n_lp:*:26:26:Printing Services:/var/spool/cups:/usr/bin/false\n_postfix:*:27:27:Postfix Mail Server:/var/spool/postfix:/usr/bin/false\n_scsd:*:31:31:Service Configuration Service:/var/empty:/usr/bin/false\n_ces:*:32:32:Certificate Enrollment Service:/var/empty:/usr/bin/false\n_appstore:*:33:33:Mac App Store Service:/var/empty:/usr/bin/false\n_mcxalr:*:54:54:MCX AppLaunch:/var/empty:/usr/bin/false\n_appleevents:*:55:55:AppleEvents Daemon:/var/empty:/usr/bin/false\n_geod:*:56:56:Geo Services Daemon:/var/db/geod:/usr/bin/false\n_serialnumberd:*:58:58:Serial Number Daemon:/var/empty:/usr/bin/false\n_devdocs:*:59:59:Developer Documentation:/var/empty:/usr/bin/false\n_sandbox:*:60:60:Seatbelt:/var/empty:/usr/bin/false\n_mdnsresponder:*:65:65:mDNSResponder:/var/empty:/usr/bin/false\n_ard:*:67:67:Apple Remote Desktop:/var/empty:/usr/bin/false\n_www:*:70:70:World Wide Web Server:/Library/WebServer:/usr/bin/false\n_eppc:*:71:71:Apple Events User:/var/empty:/usr/bin/false\n_cvs:*:72:72:CVS Server:/var/empty:/usr/bin/false\n_svn:*:73:73:SVN Server:/var/empty:/usr/bin/false\n_mysql:*:74:74:MySQL Server:/var/empty:/usr/bin/false\n_sshd:*:75:75:sshd Privilege separation:/var/empty:/usr/bin/false\n_qtss:*:76:76:QuickTime Streaming Server:/var/empty:/usr/bin/false\n_cyrus:*:77:6:Cyrus Administrator:/var/imap:/usr/bin/false\n_mailman:*:78:78:Mailman List Server:/var/empty:/usr/bin/false\n_appserver:*:79:79:Application Server:/var/empty:/usr/bin/false\n_clamav:*:82:82:ClamAV Daemon:/var/virusmails:/usr/bin/false\n_amavisd:*:83:83:AMaViS Daemon:/var/virusmails:/usr/bin/false\n_jabber:*:84:84:Jabber XMPP Server:/var/empty:/usr/bin/false\n_appowner:*:87:87:Application Owner:/var/empty:/usr/bin/false\n_windowserver:*:88:88:WindowServer:/var/empty:/usr/bin/false\n_spotlight:*:89:89:Spotlight:/var/empty:/usr/bin/false\n_tokend:*:91:91:Token Daemon:/var/empty:/usr/bin/false\n_securityagent:*:92:92:SecurityAgent:/var/db/securityagent:/usr/bin/false\n_calendar:*:93:93:Calendar:/var/empty:/usr/bin/false\n_teamsserver:*:94:94:TeamsServer:/var/teamsserver:/usr/bin/false\n_update_sharing:*:95:-2:Update Sharing:/var/empty:/usr/bin/false\n_installer:*:96:-2:Installer:/var/empty:/usr/bin/false\n_atsserver:*:97:97:ATS Server:/var/empty:/usr/bin/false\n_ftp:*:98:-2:FTP Daemon:/var/empty:/usr/bin/false\n_unknown:*:99:99:Unknown User:/var/empty:/usr/bin/false\n_softwareupdate:*:200:200:Software Update Service:/var/db/softwareupdate:/usr/bin/false\n_coreaudiod:*:202:202:Core Audio Daemon:/var/empty:/usr/bin/false\n_screensaver:*:203:203:Screensaver:/var/empty:/usr/bin/false\n_locationd:*:205:205:Location Daemon:/var/db/locationd:/usr/bin/false\n_trustevaluationagent:*:208:208:Trust Evaluation Agent:/var/empty:/usr/bin/false\n_timezone:*:210:210:AutoTimeZoneDaemon:/var/empty:/usr/bin/false\n_lda:*:211:211:Local Delivery Agent:/var/empty:/usr/bin/false\n_cvmsroot:*:212:212:CVMS Root:/var/empty:/usr/bin/false\n_usbmuxd:*:213:213:iPhone OS Device Helper:/var/db/lockdown:/usr/bin/false\n_dovecot:*:214:6:Dovecot Administrator:/var/empty:/usr/bin/false\n_dpaudio:*:215:215:DP Audio:/var/empty:/usr/bin/false\n_postgres:*:216:216:PostgreSQL Server:/var/empty:/usr/bin/false\n_krbtgt:*:217:-2:Kerberos Ticket Granting Ticket:/var/empty:/usr/bin/false\n_kadmin_admin:*:218:-2:Kerberos Admin Service:/var/empty:/usr/bin/false\n_kadmin_changepw:*:219:-2:Kerberos Change Password Service:/var/empty:/usr/bin/false\n_devicemgr:*:220:220:Device Management Server:/var/empty:/usr/bin/false\n_webauthserver:*:221:221:Web Auth Server:/var/empty:/usr/bin/false\n_netbios:*:222:222:NetBIOS:/var/empty:/usr/bin/false\n_warmd:*:224:224:Warm Daemon:/var/empty:/usr/bin/false\n_dovenull:*:227:227:Dovecot Authentication:/var/empty:/usr/bin/false\n_netstatistics:*:228:228:Network Statistics Daemon:/var/empty:/usr/bin/false\n_avbdeviced:*:229:-2:Ethernet AVB Device Daemon:/var/empty:/usr/bin/false\n_krb_krbtgt:*:230:-2:Open Directory Kerberos Ticket Granting Ticket:/var/empty:/usr/bin/false\n_krb_kadmin:*:231:-2:Open Directory Kerberos Admin Service:/var/empty:/usr/bin/false\n_krb_changepw:*:232:-2:Open Directory Kerberos Change Password Service:/var/empty:/usr/bin/false\n_krb_kerberos:*:233:-2:Open Directory Kerberos:/var/empty:/usr/bin/false\n_krb_anonymous:*:234:-2:Open Directory Kerberos Anonymous:/var/empty:/usr/bin/false\n_assetcache:*:235:235:Asset Cache Service:/var/empty:/usr/bin/false\n_coremediaiod:*:236:236:Core Media IO Daemon:/var/empty:/usr/bin/false\n_launchservicesd:*:239:239:_launchservicesd:/var/empty:/usr/bin/false\n_iconservices:*:240:240:IconServices:/var/empty:/usr/bin/false\n_distnote:*:241:241:DistNote:/var/empty:/usr/bin/false\n_nsurlsessiond:*:242:242:NSURLSession Daemon:/var/db/nsurlsessiond:/usr/bin/false\n_nsurlstoraged:*:243:243:NSURLStorage Daemon:/var/db/nsurlstoraged:/usr/bin/false\n_displaypolicyd:*:244:244:Display Policy Daemon:/var/empty:/usr/bin/false\n_astris:*:245:245:Astris Services:/var/db/astris:/usr/bin/false\n_krbfast:*:246:-2:Kerberos FAST Account:/var/empty:/usr/bin/false\n_gamecontrollerd:*:247:247:Game Controller Daemon:/var/empty:/usr/bin/false\n_mbsetupuser:*:248:248:Setup User:/var/setup:/bin/bash\n_ondemand:*:249:249:On Demand Resource Daemon:/var/db/ondemand:/usr/bin/false\n_xserverdocs:*:251:251:macOS Server Documents Service:/var/empty:/usr/bin/false\n_wwwproxy:*:252:252:WWW Proxy:/var/empty:/usr/bin/false\n_mobileasset:*:253:253:MobileAsset User:/var/ma:/usr/bin/false\n_findmydevice:*:254:254:Find My Device Daemon:/var/db/findmydevice:/usr/bin/false\n_datadetectors:*:257:257:DataDetectors:/var/db/datadetectors:/usr/bin/false\n_captiveagent:*:258:258:captiveagent:/var/empty:/usr/bin/false\n_ctkd:*:259:259:ctkd Account:/var/empty:/usr/bin/false\n_applepay:*:260:260:applepay Account:/var/db/applepay:/usr/bin/false\n_hidd:*:261:261:HID Service User:/var/db/hidd:/usr/bin/false\n_cmiodalassistants:*:262:262:CoreMedia IO Assistants User:/var/db/cmiodalassistants:/usr/bin/false\n_analyticsd:*:263:263:Analytics Daemon:/var/db/analyticsd:/usr/bin/false\n_fpsd:*:265:265:FPS Daemon:/var/db/fpsd:/usr/bin/false\n_timed:*:266:266:Time Sync Daemon:/var/db/timed:/usr/bin/false\n"
     ]
    }
   ],
   "source": [
    "# 如果你想跳过开始部分的注释行的话，可以这样做：\n",
    "\n",
    "from itertools import dropwhile\n",
    "\n",
    "with open('/etc/passwd') as f:\n",
    "    for line in dropwhile(lambda line: line.startswith('#'), f):\n",
    "        # print(line, end='')\n",
    "        pass"
   ]
  },
  {
   "cell_type": "code",
   "execution_count": 4,
   "metadata": {},
   "outputs": [
    {
     "name": "stdout",
     "output_type": "stream",
     "text": [
      "d\n1\n4\n10\n15\n"
     ]
    }
   ],
   "source": [
    "# 这个例子是基于根据某个测试函数跳过开始的元素。 \n",
    "# 如果你已经明确知道了要跳过的元素的个数的话，那么可以使用 itertools.islice() 来代替。比如：\n",
    "from itertools import islice\n",
    "\n",
    "items = ['a', 'b', 'c', 'd', 1, 4, 10, 15]\n",
    "for x in islice(items, 3, None):\n",
    "    print(x)\n"
   ]
  },
  {
   "cell_type": "markdown",
   "metadata": {},
   "source": [
    "在这个例子中， islice() 函数最后那个 None 参数指定了你要获取从第3个到最后的所有元素， 如果 None 和3的位置对调，意思就是仅仅获取前三个元素恰恰相反， (这个跟切片的相反操作 [3:] 和 [:3] 原理是一样的)。"
   ]
  },
  {
   "cell_type": "code",
   "execution_count": 6,
   "metadata": {},
   "outputs": [],
   "source": [
    "with open('/etc/passwd') as f:\n",
    "    lines = (line for line in f if not line.startswith('#'))\n",
    "    for line in lines:\n",
    "        print(line, end='')\n",
    "# 这样写确实可以跳过开始部分的注释行，但是同样也会跳过文件中其他所有的注释行。\n",
    "#  换句话讲，我们的解决方案是仅仅跳过开始部分满足测试条件的行，在那以后，所有的元素不再进行测试和过滤了。"
   ]
  },
  {
   "cell_type": "code",
   "execution_count": null,
   "metadata": {},
   "outputs": [],
   "source": [
    "# 最后需要着重强调的一点是，本节的方案适用于所有可迭代对象，包括那些事先不能确定大小的， 比如生成器，文件及其类似的对象。"
   ]
  }
 ],
 "metadata": {
  "kernelspec": {
   "display_name": "Python 2",
   "language": "python",
   "name": "python2"
  },
  "language_info": {
   "codemirror_mode": {
    "name": "ipython",
    "version": 2
   },
   "file_extension": ".py",
   "mimetype": "text/x-python",
   "name": "python",
   "nbconvert_exporter": "python",
   "pygments_lexer": "ipython2",
   "version": "2.7.6"
  }
 },
 "nbformat": 4,
 "nbformat_minor": 0
}
