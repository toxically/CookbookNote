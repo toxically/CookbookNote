{
 "cells": [
  {
   "cell_type": "heading",
   "metadata": {
    "collapsed": true
   },
   "level": 1,
   "source": [
    "chapter2.12:审查清理文本字符串"
   ]
  },
  {
   "cell_type": "markdown",
   "metadata": {},
   "source": [
    "问题：一些无聊的幼稚黑客在你的网站页面表单中输入文本”pýtĥöñ”，然后你想将这些字符清理掉"
   ]
  },
  {
   "cell_type": "code",
   "execution_count": 15,
   "metadata": {},
   "outputs": [
    {
     "data": {
      "text/plain": [
       "'pýtĥöñ\\x0cis\\tawesome\\r\\n'"
      ]
     },
     "execution_count": 15,
     "metadata": {},
     "output_type": "execute_result"
    }
   ],
   "source": [
    "# 比如，你可能想消除整个区间上的字符或者去除变音符。 为了这样做，你可以使用经常会被忽视的 str.translate() 方法。\n",
    "s = 'pýtĥöñ\\fis\\tawesome\\r\\n'\n",
    "s"
   ]
  },
  {
   "cell_type": "code",
   "execution_count": 29,
   "metadata": {},
   "outputs": [
    {
     "data": {
      "text/plain": [
       "'pýtĥöñ is awesome\\n'"
      ]
     },
     "execution_count": 29,
     "metadata": {},
     "output_type": "execute_result"
    }
   ],
   "source": [
    "# 第一步清理空白字符串。先创建一个小的转换表格然后使用translate()方法：\n",
    "# 转换表可用通过str.maketrans建立\n",
    "# 注意这里可以通过字典形式建立转换表，但是字典的键必须是unicode 序列数，不能为字符串本身。\n",
    "remap = {\n",
    "    ord('\\t'): ' ',\n",
    "    ord('\\f'): ' ',\n",
    "    ord('\\r'): None  # 删除\n",
    "}\n",
    "a = s.translate(remap)\n",
    "a"
   ]
  },
  {
   "cell_type": "code",
   "execution_count": 33,
   "metadata": {},
   "outputs": [
    {
     "data": {
      "text/plain": [
       "'python is awesome\\n'"
      ]
     },
     "execution_count": 33,
     "metadata": {},
     "output_type": "execute_result"
    }
   ],
   "source": [
    "# 删除所有和音符：\n",
    "import unicodedata\n",
    "import sys\n",
    "\n",
    "# 方法1：先标准化，再转换\n",
    "t1 = unicodedata.normalize('NFD', a)\n",
    "result = ''.join(c for c in t1 if not unicodedata.combining(c))\n",
    "result\n"
   ]
  },
  {
   "cell_type": "code",
   "execution_count": 34,
   "metadata": {},
   "outputs": [
    {
     "data": {
      "text/plain": [
       "'python is awesome\\n'"
      ]
     },
     "execution_count": 34,
     "metadata": {},
     "output_type": "execute_result"
    }
   ],
   "source": [
    "# 方法2：\n",
    "# 这里的思路是先对文本做一些初步的清理， 然后再结合 encode() 或者 decode() 操作来清除或修改它。\n",
    "b = unicodedata.normalize('NFD', a)\n",
    "b.encode('ascii', 'ignore').decode('ascii')\n",
    "\n",
    "# 补充说明encode()第二参数：\n",
    "# 第二个参数控制错误处理的策略，默认的参数就是strict，代表遇到非法字符时抛出异常； \n",
    "# 如果设置为ignore，则会忽略非法字符； \n",
    "# 如果设置为replace，则会用?取代非法字符； \n",
    "# 如果设置为xmlcharrefreplace，则使用XML的字符引用。 \n",
    "\n",
    "# 这里的标准化操作将原来的文本分解为单独的和音符。接下来的ASCII编码/解码只是简单的一下子丢弃掉那些字符。 \n",
    "# 当然，这种方法仅仅只在最后的目标就是获取到文本对应ACSII表示的时候生效。\n"
   ]
  },
  {
   "cell_type": "code",
   "execution_count": 38,
   "metadata": {},
   "outputs": [
    {
     "data": {
      "text/plain": [
       "'python is awesome\\n'"
      ]
     },
     "execution_count": 38,
     "metadata": {},
     "output_type": "execute_result"
    }
   ],
   "source": [
    "# 方法3：\n",
    "# sys.maxunicode,如果输出的值为65535,那么就是UCS-2,如果输出是1114111就是UCS-4编码\n",
    "# 通过使用 dict.fromkeys() 方法构造一个字典，每个Unicode和音符作为键，对应的值全部为 None \n",
    "cmb_chars = dict.fromkeys(c for c in range(sys.maxunicode) if unicodedata.combining(chr(c)))\n",
    "b = unicodedata.normalize('NFD', a)\n",
    "b\n",
    "b.translate(cmb_chars)"
   ]
  },
  {
   "cell_type": "code",
   "execution_count": 40,
   "metadata": {},
   "outputs": [],
   "source": [
    "# 从性能上看，直接使用replace清理字符串效率会比translate快。但是对于复杂情况来说，translate会好点。"
   ]
  },
  {
   "cell_type": "code",
   "execution_count": null,
   "metadata": {},
   "outputs": [],
   "source": []
  }
 ],
 "metadata": {
  "kernelspec": {
   "display_name": "Python 2",
   "language": "python",
   "name": "python2"
  },
  "language_info": {
   "codemirror_mode": {
    "name": "ipython",
    "version": 2
   },
   "file_extension": ".py",
   "mimetype": "text/x-python",
   "name": "python",
   "nbconvert_exporter": "python",
   "pygments_lexer": "ipython2",
   "version": "2.7.6"
  }
 },
 "nbformat": 4,
 "nbformat_minor": 0
}
