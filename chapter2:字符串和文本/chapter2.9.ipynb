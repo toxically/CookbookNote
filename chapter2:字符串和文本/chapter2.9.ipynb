{
 "cells": [
  {
   "cell_type": "heading",
   "metadata": {
    "collapsed": true
   },
   "level": 1,
   "source": [
    "chapter2.9:将Unicode文本标准化"
   ]
  },
  {
   "cell_type": "code",
   "execution_count": 4,
   "metadata": {},
   "outputs": [
    {
     "name": "stdout",
     "output_type": "stream",
     "text": [
      "Spicy Jalapeño\nSpicy Jalapeño\nFalse\n"
     ]
    }
   ],
   "source": [
    "# 在Unicode中，某些字符能够用多个合法的编码表示\n",
    "s1 = 'Spicy Jalape\\u00f1o'\n",
    "s2 = 'Spicy Jalapen\\u0303o'\n",
    "print(s1)\n",
    "print(s2)\n",
    "print(s1 == s2)\n"
   ]
  },
  {
   "cell_type": "code",
   "execution_count": 7,
   "metadata": {},
   "outputs": [
    {
     "name": "stdout",
     "output_type": "stream",
     "text": [
      "'Spicy Jalape\\xf1o'\n"
     ]
    }
   ],
   "source": [
    "# unicode文本标准化\n",
    "import unicodedata\n",
    "\n",
    "t1 = unicodedata.normalize('NFC', s1)\n",
    "t2 = unicodedata.normalize('NFC', s2)\n",
    "t1 == t2\n",
    "print(ascii(t1))"
   ]
  },
  {
   "cell_type": "code",
   "execution_count": 12,
   "metadata": {},
   "outputs": [
    {
     "name": "stdout",
     "output_type": "stream",
     "text": [
      "True\n'Spicy Jalapen\\u0303o'\n"
     ]
    }
   ],
   "source": [
    "t3 = unicodedata.normalize('NFD', s1)\n",
    "t4 = unicodedata.normalize('NFD', s2)\n",
    "print(t3 == t4)\n",
    "print(ascii(t3))"
   ]
  },
  {
   "cell_type": "code",
   "execution_count": 13,
   "metadata": {},
   "outputs": [],
   "source": [
    "# normalize() 第一个参数指定字符串标准化的方式。\n",
    "# NFC表示字符应该是整体组成(比如可能的话就使用单一编码)，而NFD表示字符应该分解为多个组合字符表示\n"
   ]
  },
  {
   "cell_type": "code",
   "execution_count": 24,
   "metadata": {},
   "outputs": [
    {
     "name": "stdout",
     "output_type": "stream",
     "text": [
      "ﬁ\nﬁ\nfi\nfi\n"
     ]
    }
   ],
   "source": [
    "# Python同样支持扩展的标准化形式NFKC和NFKD，它们在处理某些字符的时候增加了额外的兼容特性。比如：\n",
    "s = '\\ufb01'\n",
    "print(s)\n",
    "print(unicodedata.normalize('NFD',s))\n",
    "print(unicodedata.normalize('NFKD', s))\n",
    "print(unicodedata.normalize('NFKC', s))"
   ]
  },
  {
   "cell_type": "markdown",
   "metadata": {},
   "source": [
    "讨论：\n",
    "标准化对于任何需要以一致的方式处理Unicode文本的程序都是非常重要的。 当处理来自用户输入的字符串而你很难去控制编码的时候尤其如此。\n",
    "\n",
    "在清理和过滤文本的时候字符的标准化也是很重要的。 比如，假设你想清除掉一些文本上面的变音符的时候(可能是为了搜索和匹配)："
   ]
  },
  {
   "cell_type": "code",
   "execution_count": 29,
   "metadata": {},
   "outputs": [
    {
     "name": "stdout",
     "output_type": "stream",
     "text": [
      "Spicy Jalapeno\n"
     ]
    }
   ],
   "source": [
    "t1 = unicodedata.normalize('NFD', s1)\n",
    "result = ''.join(c for c in t1 if not unicodedata.combining(c))\n",
    "print(result)\n",
    "\n",
    "# 最后一个例子展示了 unicodedata 模块的另一个重要方面，也就是测试字符类的工具函数。 \n",
    "# combining() 函数可以测试一个字符是否为和音字符。 在这个模块中还有其他函数用于查找字符类别，测试是否为数字字符等等"
   ]
  },
  {
   "cell_type": "code",
   "execution_count": 40,
   "metadata": {},
   "outputs": [
    {
     "name": "stdout",
     "output_type": "stream",
     "text": [
      "Spicy Jalapeño\n0\n0\n0\n0\n0\n0\n0\n0\n0\n0\n0\n0\n0\n230\n0\n"
     ]
    }
   ],
   "source": [
    "print(t1)\n",
    "for c in t1:\n",
    "    print(unicodedata.combining(c))"
   ]
  },
  {
   "cell_type": "code",
   "execution_count": null,
   "metadata": {},
   "outputs": [],
   "source": []
  }
 ],
 "metadata": {
  "kernelspec": {
   "display_name": "Python 2",
   "language": "python",
   "name": "python2"
  },
  "language_info": {
   "codemirror_mode": {
    "name": "ipython",
    "version": 2
   },
   "file_extension": ".py",
   "mimetype": "text/x-python",
   "name": "python",
   "nbconvert_exporter": "python",
   "pygments_lexer": "ipython2",
   "version": "2.7.6"
  }
 },
 "nbformat": 4,
 "nbformat_minor": 0
}
