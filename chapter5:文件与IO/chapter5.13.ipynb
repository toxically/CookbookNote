{
 "cells": [
  {
   "cell_type": "heading",
   "metadata": {
    "collapsed": true
   },
   "level": 1,
   "source": [
    "chapter5.13:获取文件夹中的文件列表"
   ]
  },
  {
   "cell_type": "code",
   "execution_count": 4,
   "metadata": {},
   "outputs": [
    {
     "name": "stdout",
     "output_type": "stream",
     "text": [
      "['emond.d', 'ntp-restrict.conf', 'periodic', 'manpaths', 'dnsextd.conf', 'rc.common', 'auto_master', 'csh.login', 'mach_init.d', 'syslog.conf', 'krb5.keytab', 'sudoers.d', 'ssl', 'nanorc', 'csh.logout', 'aliases.db', 'bashrc_Apple_Terminal', 'racoon', 'snmp', 'gettytab', 'kern_loader.conf', 'paths.d', 'asl', 'rtadvd.conf', 'security', 'group', 'auto_home', 'manpaths.d', 'ppp', 'shells', 'ttys', 'php-fpm.d', 'php-fpm.conf.default', 'paths', 'rmtab', 'xtab', 'php.ini.default', 'localtime', 'pf.conf', 'sudoers', 'bashrc', 'arcconfig', 'newsyslog.d', 'irbrc', 'pam.d', 'zshrc', 'defaults', 'hosts.equiv', 'networks', 'find.codes', 'apache2', 'autofs.conf', 'ssh', 'ftpusers', 'mach_init_per_login_session.d', 'profile', 'csh.cshrc', 'ntp_opendirectory.conf', 'locate.rc', 'resolv.conf', 'nfs.conf', 'sudo_lecture', 'asl.conf', 'rc.netboot', 'hosts', 'postfix', 'pf.os', 'pf.anchors', 'ntp.conf', 'rpc', 'master.passwd', 'fstab.hd', 'openldap', 'aliases', 'com.apple.screensharing.agent.launchd', 'wfs', 'protocols', 'cups', 'man.conf', 'services', 'passwd', 'zprofile', 'afpovertcp.cfg', 'mach_init_per_user.d', 'newsyslog.conf', 'mail.rc', 'notify.conf']\n"
     ]
    }
   ],
   "source": [
    "import os\n",
    "\n",
    "names = os.listdir('/etc/')\n",
    "print(names)\n",
    "\n",
    "# 结果会返回目录中所有文件列表，包括所有文件，子目录，符号链接等等。\n"
   ]
  },
  {
   "cell_type": "code",
   "execution_count": 5,
   "metadata": {},
   "outputs": [
    {
     "name": "stdout",
     "output_type": "stream",
     "text": [
      "['ntp-restrict.conf', 'manpaths', 'dnsextd.conf', 'rc.common', 'auto_master', 'csh.login', 'syslog.conf', 'krb5.keytab', 'nanorc', 'csh.logout', 'aliases.db', 'bashrc_Apple_Terminal', 'gettytab', 'kern_loader.conf', 'rtadvd.conf', 'group', 'auto_home', 'shells', 'ttys', 'php-fpm.conf.default', 'paths', 'rmtab', 'xtab', 'php.ini.default', 'localtime', 'pf.conf', 'sudoers', 'bashrc', 'arcconfig', 'irbrc', 'zshrc', 'hosts.equiv', 'networks', 'find.codes', 'autofs.conf', 'ftpusers', 'profile', 'csh.cshrc', 'ntp_opendirectory.conf', 'locate.rc', 'resolv.conf', 'nfs.conf', 'sudo_lecture', 'asl.conf', 'rc.netboot', 'hosts', 'pf.os', 'ntp.conf', 'rpc', 'master.passwd', 'fstab.hd', 'aliases', 'com.apple.screensharing.agent.launchd', 'protocols', 'man.conf', 'services', 'passwd', 'zprofile', 'afpovertcp.cfg', 'newsyslog.conf', 'mail.rc', 'notify.conf']\n"
     ]
    }
   ],
   "source": [
    "# 过滤数据\n",
    "\n",
    "# 获取所有regular files\n",
    "names = [name for name in os.listdir('/etc/') if os.path.isfile(os.path.join('/etc/', name))]\n",
    "print(names)"
   ]
  },
  {
   "cell_type": "code",
   "execution_count": 7,
   "metadata": {},
   "outputs": [
    {
     "name": "stdout",
     "output_type": "stream",
     "text": [
      "['emond.d', 'periodic', 'mach_init.d', 'sudoers.d', 'ssl', 'racoon', 'snmp', 'paths.d', 'asl', 'security', 'manpaths.d', 'ppp', 'php-fpm.d', 'newsyslog.d', 'pam.d', 'defaults', 'apache2', 'ssh', 'mach_init_per_login_session.d', 'postfix', 'pf.anchors', 'openldap', 'wfs', 'cups', 'mach_init_per_user.d']\n"
     ]
    }
   ],
   "source": [
    "# 获取所有目录\n",
    "dirnames = [name for name in os.listdir('/etc/') if os.path.isdir(os.path.join('/etc/', name))]\n",
    "print(dirnames)"
   ]
  },
  {
   "cell_type": "markdown",
   "metadata": {},
   "source": [
    "字符串的 startswith() 和 endswith() 方法对于过滤一个目录的内容也是很有用的。"
   ]
  },
  {
   "cell_type": "code",
   "execution_count": 8,
   "metadata": {},
   "outputs": [
    {
     "name": "stdout",
     "output_type": "stream",
     "text": [
      "['ntp-restrict.conf', 'dnsextd.conf', 'syslog.conf', 'kern_loader.conf', 'rtadvd.conf', 'pf.conf', 'autofs.conf', 'ntp_opendirectory.conf', 'resolv.conf', 'nfs.conf', 'asl.conf', 'ntp.conf', 'man.conf', 'newsyslog.conf', 'notify.conf']\n"
     ]
    }
   ],
   "source": [
    "conf_file = [name for name in os.listdir('/etc/') if name.endswith('.conf')]\n",
    "print(conf_file)"
   ]
  },
  {
   "cell_type": "markdown",
   "metadata": {},
   "source": [
    "对于文件名的匹配，你可能会考虑使用 glob 或 fnmatch 模块。比如"
   ]
  },
  {
   "cell_type": "code",
   "execution_count": 9,
   "metadata": {},
   "outputs": [
    {
     "name": "stdout",
     "output_type": "stream",
     "text": [
      "['/etc/ntp-restrict.conf', '/etc/dnsextd.conf', '/etc/syslog.conf', '/etc/kern_loader.conf', '/etc/rtadvd.conf', '/etc/pf.conf', '/etc/autofs.conf', '/etc/ntp_opendirectory.conf', '/etc/resolv.conf', '/etc/nfs.conf', '/etc/asl.conf', '/etc/ntp.conf', '/etc/man.conf', '/etc/newsyslog.conf', '/etc/notify.conf']\n"
     ]
    }
   ],
   "source": [
    "# glob\n",
    "\n",
    "import glob\n",
    "\n",
    "conf_file = glob.glob('/etc/*.conf')\n",
    "print(conf_file)\n"
   ]
  },
  {
   "cell_type": "code",
   "execution_count": 10,
   "metadata": {},
   "outputs": [
    {
     "name": "stdout",
     "output_type": "stream",
     "text": [
      "['ntp-restrict.conf', 'dnsextd.conf', 'syslog.conf', 'kern_loader.conf', 'rtadvd.conf', 'pf.conf', 'autofs.conf', 'ntp_opendirectory.conf', 'resolv.conf', 'nfs.conf', 'asl.conf', 'ntp.conf', 'man.conf', 'newsyslog.conf', 'notify.conf']\n"
     ]
    }
   ],
   "source": [
    "# fnmatch \n",
    "from fnmatch import fnmatch\n",
    "\n",
    "conf_file = [name for name in os.listdir('/etc/') if fnmatch(name, '*.conf')]\n",
    "print(conf_file)\n"
   ]
  },
  {
   "cell_type": "markdown",
   "metadata": {},
   "source": [
    "获取目录中的列表是很容易的，但是其返回结果只是目录中实体名列表而已。 如果你还想获取其他的元信息，比如文件大小，修改时间等等， 你或许还需要使用到 os.path 模块中的函数或着 os.stat() 函数来收集数据。比如："
   ]
  },
  {
   "cell_type": "code",
   "execution_count": 11,
   "metadata": {},
   "outputs": [
    {
     "name": "stdout",
     "output_type": "stream",
     "text": [
      "/etc/ntp-restrict.conf 414 1500155039.0\n/etc/dnsextd.conf 2378 1503533686.0\n/etc/syslog.conf 96 1500689836.0\n/etc/kern_loader.conf 0 1506990960.0\n/etc/rtadvd.conf 891 1506735380.0\n/etc/pf.conf 1027 1500155736.0\n/etc/autofs.conf 1935 1506735344.0\n/etc/ntp_opendirectory.conf 23 1507678027.0\n/etc/resolv.conf 381 1521006148.04605\n/etc/nfs.conf 43 1500156034.0\n/etc/asl.conf 1051 1500689836.0\n/etc/ntp.conf 27 1517027554.4345653\n/etc/man.conf 4574 1500152545.0\n/etc/newsyslog.conf 1318 1500152524.0\n/etc/notify.conf 351 1500152636.0\n"
     ]
    }
   ],
   "source": [
    "import os\n",
    "import os.path\n",
    "import glob\n",
    "\n",
    "conf_file = glob.glob('/etc/*.conf')\n",
    "\n",
    "# 获取文件大小和修改时间\n",
    "name_sz_date = [(name, os.path.getsize(name), os.path.getmtime(name)) for name in conf_file]\n",
    "for name, size, mtime in name_sz_date:\n",
    "    print(name, size, mtime)\n"
   ]
  },
  {
   "cell_type": "code",
   "execution_count": 13,
   "metadata": {},
   "outputs": [
    {
     "name": "stdout",
     "output_type": "stream",
     "text": [
      "/etc/ntp-restrict.conf 414 1500155039.0 1500155039000000000\n/etc/dnsextd.conf 2378 1503533686.0 1503533686000000000\n/etc/syslog.conf 96 1500689836.0 1500689836000000000\n/etc/kern_loader.conf 0 1506990960.0 1506990960000000000\n/etc/rtadvd.conf 891 1506735380.0 1506735380000000000\n/etc/pf.conf 1027 1500155736.0 1500155736000000000\n/etc/autofs.conf 1935 1506735344.0 1506735344000000000\n/etc/ntp_opendirectory.conf 23 1507678027.0 1507678027000000000\n/etc/resolv.conf 381 1521006148.04605 1521006148046050098\n/etc/nfs.conf 43 1500156034.0 1500156034000000000\n/etc/asl.conf 1051 1500689836.0 1500689836000000000\n/etc/ntp.conf 27 1517027554.4345653 1517027554434565348\n/etc/man.conf 4574 1500152545.0 1500152545000000000\n/etc/newsyslog.conf 1318 1500152524.0 1500152524000000000\n/etc/notify.conf 351 1500152636.0 1500152636000000000\n"
     ]
    }
   ],
   "source": [
    "# 获取文件元数据\n",
    "file_metadata = [(name, os.stat(name)) for name in conf_file]\n",
    "for name, meta in file_metadata:\n",
    "    print(name, meta.st_size, meta.st_mtime,meta.st_mtime_ns)\n"
   ]
  },
  {
   "cell_type": "markdown",
   "metadata": {},
   "source": [
    "最后还有一点要注意的就是，有时候在处理文件名编码问题时候可能会出现一些问题。 通常来讲，函数 os.listdir() 返回的实体列表会根据系统默认的文件名编码来解码。 但是有时候也会碰到一些不能正常解码的文件名。 关于文件名的处理问题，在5.14和5.15小节有更详细的讲解"
   ]
  },
  {
   "cell_type": "code",
   "execution_count": null,
   "metadata": {},
   "outputs": [],
   "source": []
  }
 ],
 "metadata": {
  "kernelspec": {
   "display_name": "Python 2",
   "language": "python",
   "name": "python2"
  },
  "language_info": {
   "codemirror_mode": {
    "name": "ipython",
    "version": 2
   },
   "file_extension": ".py",
   "mimetype": "text/x-python",
   "name": "python",
   "nbconvert_exporter": "python",
   "pygments_lexer": "ipython2",
   "version": "2.7.6"
  }
 },
 "nbformat": 4,
 "nbformat_minor": 0
}
