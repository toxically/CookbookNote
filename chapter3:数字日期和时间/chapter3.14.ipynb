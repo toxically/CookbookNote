{
 "cells": [
  {
   "cell_type": "heading",
   "metadata": {
    "collapsed": true
   },
   "level": 1,
   "source": [
    "chapter3.14:计算当前月份的日期范围"
   ]
  },
  {
   "cell_type": "markdown",
   "metadata": {},
   "source": [
    "问题：你的代码需要在当前月份中循环每一天，想找到一个计算这个日期范围的高效方法。"
   ]
  },
  {
   "cell_type": "code",
   "execution_count": 1,
   "metadata": {},
   "outputs": [],
   "source": [
    "# calendar.monthrange(year,month) 返回的是由当月第一日的星期几和这个月的天数组成的元组\n",
    "from datetime import datetime, timedelta, date\n",
    "import calendar\n",
    "\n",
    "def get_month_range(start_date=None):\n",
    "    if start_date is None:\n",
    "        start_date = date.today().replace(day=1)\n",
    "    _, days_in_month = calendar.monthrange(start_date.year, start_date.month)\n",
    "    end_date = start_date + timedelta(days=days_in_month)\n",
    "    return start_date, end_date\n"
   ]
  },
  {
   "cell_type": "code",
   "execution_count": 4,
   "metadata": {},
   "outputs": [
    {
     "name": "stdout",
     "output_type": "stream",
     "text": [
      "2018-03-01\n2018-03-02\n2018-03-03\n2018-03-04\n2018-03-05\n2018-03-06\n2018-03-07\n2018-03-08\n2018-03-09\n2018-03-10\n2018-03-11\n2018-03-12\n2018-03-13\n2018-03-14\n2018-03-15\n2018-03-16\n2018-03-17\n2018-03-18\n2018-03-19\n2018-03-20\n2018-03-21\n2018-03-22\n2018-03-23\n2018-03-24\n2018-03-25\n2018-03-26\n2018-03-27\n2018-03-28\n2018-03-29\n2018-03-30\n2018-03-31\n"
     ]
    }
   ],
   "source": [
    "# 有了这个就可以很容易的在返回的日期范围上面做循环操作了：\n",
    "a_day = timedelta(days=1)\n",
    "first_day, last_day = get_month_range()\n",
    "while first_day < last_day:\n",
    "    print(first_day)\n",
    "    first_day += a_day\n"
   ]
  },
  {
   "cell_type": "markdown",
   "metadata": {},
   "source": [
    "上面的代码先计算出一个对应月份第一天的日期。 一个快速的方法就是使用 date 或 datetime 对象的 replace() 方法简单的将 days 属性设置成1即可。 replace() 方法一个好处就是它会创建和你开始传入对象类型相同的对象。 所以，如果输入参数是一个 date 实例，那么结果也是一个 date 实例。 同样的，如果输入是一个 datetime 实例，那么你得到的就是一个 datetime 实例。"
   ]
  },
  {
   "cell_type": "markdown",
   "metadata": {},
   "source": [
    "然后，使用 calendar.monthrange() 函数来找出该月的总天数。 任何时候只要你想获得日历信息，那么 calendar 模块就非常有用了。 monthrange() 函数会返回包含星期和该月天数的元组。"
   ]
  },
  {
   "cell_type": "markdown",
   "metadata": {},
   "source": [
    "一旦该月的天数已知了，那么结束日期就可以通过在开始日期上面加上这个天数获得。 有个需要注意的是结束日期并不包含在这个日期范围内(事实上它是下个月的开始日期)。 这个和Python的 slice 与 range 操作行为保持一致，同样也不包含结尾。"
   ]
  },
  {
   "cell_type": "code",
   "execution_count": 5,
   "metadata": {},
   "outputs": [
    {
     "name": "stdout",
     "output_type": "stream",
     "text": [
      "2018-01-01 00:00:00\n2018-01-02 00:00:00\n2018-01-03 00:00:00\n2018-01-04 00:00:00\n2018-01-05 00:00:00\n2018-01-06 00:00:00\n2018-01-07 00:00:00\n2018-01-08 00:00:00\n2018-01-09 00:00:00\n2018-01-10 00:00:00\n2018-01-11 00:00:00\n2018-01-12 00:00:00\n2018-01-13 00:00:00\n2018-01-14 00:00:00\n2018-01-15 00:00:00\n2018-01-16 00:00:00\n2018-01-17 00:00:00\n2018-01-18 00:00:00\n2018-01-19 00:00:00\n2018-01-20 00:00:00\n2018-01-21 00:00:00\n2018-01-22 00:00:00\n2018-01-23 00:00:00\n2018-01-24 00:00:00\n2018-01-25 00:00:00\n2018-01-26 00:00:00\n2018-01-27 00:00:00\n2018-01-28 00:00:00\n2018-01-29 00:00:00\n2018-01-30 00:00:00\n2018-01-31 00:00:00\n"
     ]
    }
   ],
   "source": [
    "# 实现和range相同效果的日期迭代器\n",
    "def date_range(start, stop, step):\n",
    "    while start < stop:\n",
    "        yield start\n",
    "        start += step\n",
    "\n",
    "\n",
    "for d in date_range(datetime(2018, 1, 1), datetime(2018, 2, 1), timedelta(days=1)):\n",
    "    print(d)\n"
   ]
  },
  {
   "cell_type": "code",
   "execution_count": null,
   "metadata": {},
   "outputs": [],
   "source": []
  }
 ],
 "metadata": {
  "kernelspec": {
   "display_name": "Python 2",
   "language": "python",
   "name": "python2"
  },
  "language_info": {
   "codemirror_mode": {
    "name": "ipython",
    "version": 2
   },
   "file_extension": ".py",
   "mimetype": "text/x-python",
   "name": "python",
   "nbconvert_exporter": "python",
   "pygments_lexer": "ipython2",
   "version": "2.7.6"
  }
 },
 "nbformat": 4,
 "nbformat_minor": 0
}
